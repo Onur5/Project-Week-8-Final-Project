{
 "cells": [
  {
   "cell_type": "code",
   "execution_count": 1,
   "metadata": {
    "scrolled": true
   },
   "outputs": [
    {
     "name": "stderr",
     "output_type": "stream",
     "text": [
      "C:\\Users\\Onurun\\.conda\\envs\\PyOnur\\lib\\site-packages\\tensorflow\\python\\framework\\dtypes.py:523: FutureWarning: Passing (type, 1) or '1type' as a synonym of type is deprecated; in a future version of numpy, it will be understood as (type, (1,)) / '(1,)type'.\n",
      "  _np_qint8 = np.dtype([(\"qint8\", np.int8, 1)])\n",
      "C:\\Users\\Onurun\\.conda\\envs\\PyOnur\\lib\\site-packages\\tensorflow\\python\\framework\\dtypes.py:524: FutureWarning: Passing (type, 1) or '1type' as a synonym of type is deprecated; in a future version of numpy, it will be understood as (type, (1,)) / '(1,)type'.\n",
      "  _np_quint8 = np.dtype([(\"quint8\", np.uint8, 1)])\n",
      "C:\\Users\\Onurun\\.conda\\envs\\PyOnur\\lib\\site-packages\\tensorflow\\python\\framework\\dtypes.py:525: FutureWarning: Passing (type, 1) or '1type' as a synonym of type is deprecated; in a future version of numpy, it will be understood as (type, (1,)) / '(1,)type'.\n",
      "  _np_qint16 = np.dtype([(\"qint16\", np.int16, 1)])\n",
      "C:\\Users\\Onurun\\.conda\\envs\\PyOnur\\lib\\site-packages\\tensorflow\\python\\framework\\dtypes.py:526: FutureWarning: Passing (type, 1) or '1type' as a synonym of type is deprecated; in a future version of numpy, it will be understood as (type, (1,)) / '(1,)type'.\n",
      "  _np_quint16 = np.dtype([(\"quint16\", np.uint16, 1)])\n",
      "C:\\Users\\Onurun\\.conda\\envs\\PyOnur\\lib\\site-packages\\tensorflow\\python\\framework\\dtypes.py:527: FutureWarning: Passing (type, 1) or '1type' as a synonym of type is deprecated; in a future version of numpy, it will be understood as (type, (1,)) / '(1,)type'.\n",
      "  _np_qint32 = np.dtype([(\"qint32\", np.int32, 1)])\n",
      "C:\\Users\\Onurun\\.conda\\envs\\PyOnur\\lib\\site-packages\\tensorflow\\python\\framework\\dtypes.py:532: FutureWarning: Passing (type, 1) or '1type' as a synonym of type is deprecated; in a future version of numpy, it will be understood as (type, (1,)) / '(1,)type'.\n",
      "  np_resource = np.dtype([(\"resource\", np.ubyte, 1)])\n"
     ]
    }
   ],
   "source": [
    "import numpy as np\n",
    "import pandas as pd\n",
    "import string\n",
    "from collections import OrderedDict\n",
    "import matplotlib.pyplot as plt\n",
    "import seaborn as sns\n",
    "from sklearn.preprocessing import LabelBinarizer\n",
    "import tensorflow\n",
    "from sklearn.metrics import accuracy_score"
   ]
  },
  {
   "cell_type": "code",
   "execution_count": 49,
   "metadata": {},
   "outputs": [],
   "source": [
    "data_train = pd.read_csv(\"../Data/sign_mnist_train.csv\")"
   ]
  },
  {
   "cell_type": "code",
   "execution_count": 50,
   "metadata": {},
   "outputs": [
    {
     "data": {
      "text/html": [
       "<div>\n",
       "<style scoped>\n",
       "    .dataframe tbody tr th:only-of-type {\n",
       "        vertical-align: middle;\n",
       "    }\n",
       "\n",
       "    .dataframe tbody tr th {\n",
       "        vertical-align: top;\n",
       "    }\n",
       "\n",
       "    .dataframe thead th {\n",
       "        text-align: right;\n",
       "    }\n",
       "</style>\n",
       "<table border=\"1\" class=\"dataframe\">\n",
       "  <thead>\n",
       "    <tr style=\"text-align: right;\">\n",
       "      <th></th>\n",
       "      <th>label</th>\n",
       "      <th>pixel1</th>\n",
       "      <th>pixel2</th>\n",
       "      <th>pixel3</th>\n",
       "      <th>pixel4</th>\n",
       "      <th>pixel5</th>\n",
       "      <th>pixel6</th>\n",
       "      <th>pixel7</th>\n",
       "      <th>pixel8</th>\n",
       "      <th>pixel9</th>\n",
       "      <th>...</th>\n",
       "      <th>pixel775</th>\n",
       "      <th>pixel776</th>\n",
       "      <th>pixel777</th>\n",
       "      <th>pixel778</th>\n",
       "      <th>pixel779</th>\n",
       "      <th>pixel780</th>\n",
       "      <th>pixel781</th>\n",
       "      <th>pixel782</th>\n",
       "      <th>pixel783</th>\n",
       "      <th>pixel784</th>\n",
       "    </tr>\n",
       "  </thead>\n",
       "  <tbody>\n",
       "    <tr>\n",
       "      <th>0</th>\n",
       "      <td>3</td>\n",
       "      <td>107</td>\n",
       "      <td>118</td>\n",
       "      <td>127</td>\n",
       "      <td>134</td>\n",
       "      <td>139</td>\n",
       "      <td>143</td>\n",
       "      <td>146</td>\n",
       "      <td>150</td>\n",
       "      <td>153</td>\n",
       "      <td>...</td>\n",
       "      <td>207</td>\n",
       "      <td>207</td>\n",
       "      <td>207</td>\n",
       "      <td>207</td>\n",
       "      <td>206</td>\n",
       "      <td>206</td>\n",
       "      <td>206</td>\n",
       "      <td>204</td>\n",
       "      <td>203</td>\n",
       "      <td>202</td>\n",
       "    </tr>\n",
       "    <tr>\n",
       "      <th>1</th>\n",
       "      <td>6</td>\n",
       "      <td>155</td>\n",
       "      <td>157</td>\n",
       "      <td>156</td>\n",
       "      <td>156</td>\n",
       "      <td>156</td>\n",
       "      <td>157</td>\n",
       "      <td>156</td>\n",
       "      <td>158</td>\n",
       "      <td>158</td>\n",
       "      <td>...</td>\n",
       "      <td>69</td>\n",
       "      <td>149</td>\n",
       "      <td>128</td>\n",
       "      <td>87</td>\n",
       "      <td>94</td>\n",
       "      <td>163</td>\n",
       "      <td>175</td>\n",
       "      <td>103</td>\n",
       "      <td>135</td>\n",
       "      <td>149</td>\n",
       "    </tr>\n",
       "    <tr>\n",
       "      <th>2</th>\n",
       "      <td>2</td>\n",
       "      <td>187</td>\n",
       "      <td>188</td>\n",
       "      <td>188</td>\n",
       "      <td>187</td>\n",
       "      <td>187</td>\n",
       "      <td>186</td>\n",
       "      <td>187</td>\n",
       "      <td>188</td>\n",
       "      <td>187</td>\n",
       "      <td>...</td>\n",
       "      <td>202</td>\n",
       "      <td>201</td>\n",
       "      <td>200</td>\n",
       "      <td>199</td>\n",
       "      <td>198</td>\n",
       "      <td>199</td>\n",
       "      <td>198</td>\n",
       "      <td>195</td>\n",
       "      <td>194</td>\n",
       "      <td>195</td>\n",
       "    </tr>\n",
       "    <tr>\n",
       "      <th>3</th>\n",
       "      <td>2</td>\n",
       "      <td>211</td>\n",
       "      <td>211</td>\n",
       "      <td>212</td>\n",
       "      <td>212</td>\n",
       "      <td>211</td>\n",
       "      <td>210</td>\n",
       "      <td>211</td>\n",
       "      <td>210</td>\n",
       "      <td>210</td>\n",
       "      <td>...</td>\n",
       "      <td>235</td>\n",
       "      <td>234</td>\n",
       "      <td>233</td>\n",
       "      <td>231</td>\n",
       "      <td>230</td>\n",
       "      <td>226</td>\n",
       "      <td>225</td>\n",
       "      <td>222</td>\n",
       "      <td>229</td>\n",
       "      <td>163</td>\n",
       "    </tr>\n",
       "    <tr>\n",
       "      <th>4</th>\n",
       "      <td>13</td>\n",
       "      <td>164</td>\n",
       "      <td>167</td>\n",
       "      <td>170</td>\n",
       "      <td>172</td>\n",
       "      <td>176</td>\n",
       "      <td>179</td>\n",
       "      <td>180</td>\n",
       "      <td>184</td>\n",
       "      <td>185</td>\n",
       "      <td>...</td>\n",
       "      <td>92</td>\n",
       "      <td>105</td>\n",
       "      <td>105</td>\n",
       "      <td>108</td>\n",
       "      <td>133</td>\n",
       "      <td>163</td>\n",
       "      <td>157</td>\n",
       "      <td>163</td>\n",
       "      <td>164</td>\n",
       "      <td>179</td>\n",
       "    </tr>\n",
       "  </tbody>\n",
       "</table>\n",
       "<p>5 rows × 785 columns</p>\n",
       "</div>"
      ],
      "text/plain": [
       "   label  pixel1  pixel2  pixel3  pixel4  pixel5  pixel6  pixel7  pixel8  \\\n",
       "0      3     107     118     127     134     139     143     146     150   \n",
       "1      6     155     157     156     156     156     157     156     158   \n",
       "2      2     187     188     188     187     187     186     187     188   \n",
       "3      2     211     211     212     212     211     210     211     210   \n",
       "4     13     164     167     170     172     176     179     180     184   \n",
       "\n",
       "   pixel9  ...  pixel775  pixel776  pixel777  pixel778  pixel779  pixel780  \\\n",
       "0     153  ...       207       207       207       207       206       206   \n",
       "1     158  ...        69       149       128        87        94       163   \n",
       "2     187  ...       202       201       200       199       198       199   \n",
       "3     210  ...       235       234       233       231       230       226   \n",
       "4     185  ...        92       105       105       108       133       163   \n",
       "\n",
       "   pixel781  pixel782  pixel783  pixel784  \n",
       "0       206       204       203       202  \n",
       "1       175       103       135       149  \n",
       "2       198       195       194       195  \n",
       "3       225       222       229       163  \n",
       "4       157       163       164       179  \n",
       "\n",
       "[5 rows x 785 columns]"
      ]
     },
     "execution_count": 50,
     "metadata": {},
     "output_type": "execute_result"
    }
   ],
   "source": [
    "data_train.head()"
   ]
  },
  {
   "cell_type": "code",
   "execution_count": 51,
   "metadata": {},
   "outputs": [],
   "source": [
    "target_train_num = data_train['label'].values"
   ]
  },
  {
   "cell_type": "code",
   "execution_count": 52,
   "metadata": {},
   "outputs": [
    {
     "data": {
      "text/plain": [
       "array([ 3,  6,  2,  2, 13, 16,  8, 22,  3,  3, 18, 10, 16, 22, 20, 16, 17,\n",
       "       13, 13, 19, 18, 21, 16, 23,  3], dtype=int64)"
      ]
     },
     "execution_count": 52,
     "metadata": {},
     "output_type": "execute_result"
    }
   ],
   "source": [
    "target_train_num[0:25]"
   ]
  },
  {
   "cell_type": "code",
   "execution_count": 53,
   "metadata": {},
   "outputs": [
    {
     "data": {
      "text/plain": [
       "array([ 0,  1,  2,  3,  4,  5,  6,  7,  8, 10, 11, 12, 13, 14, 15, 16, 17,\n",
       "       18, 19, 20, 21, 22, 23, 24], dtype=int64)"
      ]
     },
     "execution_count": 53,
     "metadata": {},
     "output_type": "execute_result"
    }
   ],
   "source": [
    "np.unique(target_train_num)"
   ]
  },
  {
   "cell_type": "markdown",
   "metadata": {},
   "source": [
    "### Pictures available in data set\n",
    "***Note that J (Nr.9) and Z (Nr.25) are missing in the pictures and also above in the target data.***\n",
    "<br>\n",
    "Pictures are ordered from left to right, from top to bottom.\n",
    "\n",
    "![Data_Pictures](../Pictures/amer_sign2.png)"
   ]
  },
  {
   "cell_type": "code",
   "execution_count": 54,
   "metadata": {},
   "outputs": [],
   "source": [
    "target_train = []\n",
    "for i in target_train_num:\n",
    "    target_train.append(string.ascii_uppercase[i])    "
   ]
  },
  {
   "cell_type": "code",
   "execution_count": 55,
   "metadata": {},
   "outputs": [],
   "source": [
    "target_train = np.array(target_train)"
   ]
  },
  {
   "cell_type": "code",
   "execution_count": 56,
   "metadata": {},
   "outputs": [
    {
     "data": {
      "text/plain": [
       "(array(['D', 'G', 'C', 'C', 'N', 'Q', 'I', 'W', 'D', 'D', 'S', 'K', 'Q',\n",
       "        'W', 'U', 'Q', 'R', 'N', 'N', 'T', 'S', 'V', 'Q', 'X', 'D'],\n",
       "       dtype='<U1'),\n",
       " array(['A', 'B', 'C', 'D', 'E', 'F', 'G', 'H', 'I', 'K', 'L', 'M', 'N',\n",
       "        'O', 'P', 'Q', 'R', 'S', 'T', 'U', 'V', 'W', 'X', 'Y'], dtype='<U1'))"
      ]
     },
     "execution_count": 56,
     "metadata": {},
     "output_type": "execute_result"
    }
   ],
   "source": [
    "target_train[0:25], np.unique(target_train)"
   ]
  },
  {
   "cell_type": "code",
   "execution_count": 57,
   "metadata": {},
   "outputs": [
    {
     "data": {
      "text/plain": [
       "<matplotlib.axes._subplots.AxesSubplot at 0x1ba21f03320>"
      ]
     },
     "execution_count": 57,
     "metadata": {},
     "output_type": "execute_result"
    },
    {
     "data": {
      "image/png": "[encoded data removed]",
      "text/plain": [
       "<Figure size 1080x576 with 1 Axes>"
      ]
     },
     "metadata": {
      "needs_background": "light"
     },
     "output_type": "display_data"
    }
   ],
   "source": [
    "plt.figure(figsize=(15,8))\n",
    "sns.countplot(x=sorted(target_train))"
   ]
  },
  {
   "cell_type": "code",
   "execution_count": null,
   "metadata": {},
   "outputs": [],
   "source": []
  },
  {
   "cell_type": "code",
   "execution_count": 58,
   "metadata": {},
   "outputs": [
    {
     "name": "stdout",
     "output_type": "stream",
     "text": [
      "(27455,)\n",
      "['D' 'G' 'C' ... 'S' 'R' 'X']\n"
     ]
    }
   ],
   "source": [
    "print(target_train.shape)\n",
    "print(target_train)"
   ]
  },
  {
   "cell_type": "code",
   "execution_count": 59,
   "metadata": {},
   "outputs": [],
   "source": [
    "label_binrizer = LabelBinarizer()\n",
    "target_train_binary = label_binrizer.fit_transform(target_train)"
   ]
  },
  {
   "cell_type": "code",
   "execution_count": 60,
   "metadata": {},
   "outputs": [
    {
     "name": "stdout",
     "output_type": "stream",
     "text": [
      "(27455, 24)\n",
      "[[0 0 0 ... 0 0 0]\n",
      " [0 0 0 ... 0 0 0]\n",
      " [0 0 1 ... 0 0 0]\n",
      " ...\n",
      " [0 0 0 ... 0 0 0]\n",
      " [0 0 0 ... 0 0 0]\n",
      " [0 0 0 ... 0 1 0]]\n"
     ]
    }
   ],
   "source": [
    "print(target_train_binary.shape)\n",
    "print(target_train_binary)"
   ]
  },
  {
   "cell_type": "code",
   "execution_count": 61,
   "metadata": {},
   "outputs": [
    {
     "data": {
      "text/plain": [
       "array(['D', 'G', 'C', ..., 'S', 'R', 'X'], dtype='<U1')"
      ]
     },
     "execution_count": 61,
     "metadata": {},
     "output_type": "execute_result"
    }
   ],
   "source": [
    "target_train"
   ]
  },
  {
   "cell_type": "code",
   "execution_count": 62,
   "metadata": {},
   "outputs": [],
   "source": [
    "image_train = data_train.drop('label', axis = 1)"
   ]
  },
  {
   "cell_type": "code",
   "execution_count": 63,
   "metadata": {
    "scrolled": true
   },
   "outputs": [],
   "source": [
    "image_train = image_train.values"
   ]
  },
  {
   "cell_type": "code",
   "execution_count": 64,
   "metadata": {},
   "outputs": [
    {
     "name": "stdout",
     "output_type": "stream",
     "text": [
      "(27455, 784)\n",
      "[[107 118 127 ... 204 203 202]\n",
      " [155 157 156 ... 103 135 149]\n",
      " [187 188 188 ... 195 194 195]\n",
      " ...\n",
      " [174 174 174 ... 202 200 200]\n",
      " [177 181 184 ...  64  87  93]\n",
      " [179 180 180 ... 205 209 215]]\n"
     ]
    }
   ],
   "source": [
    "print(image_train.shape)\n",
    "print(image_train)"
   ]
  },
  {
   "cell_type": "code",
   "execution_count": 65,
   "metadata": {
    "scrolled": true
   },
   "outputs": [
    {
     "name": "stdout",
     "output_type": "stream",
     "text": [
      "The shown image as binary alphabet [0 0 0 0 0 0 1 0 0 0 0 0 0 0 0 0 0 0 0 0 0 0 0 0]\n",
      "This position is the letter: \u001b[1mG\u001b[1m\n"
     ]
    },
    {
     "data": {
      "image/png": "[encoded data removed]",
      "text/plain": [
       "<Figure size 432x288 with 1 Axes>"
      ]
     },
     "metadata": {
      "needs_background": "light"
     },
     "output_type": "display_data"
    }
   ],
   "source": [
    "print(f\"The shown image as binary alphabet {target_train_binary[1]}\")\n",
    "print(f\"This position is the letter: \\033[1m{target_train[1]}\\033[1m\")\n",
    "plt.imshow(image_train[1].reshape(28,28))\n",
    "title_obj = plt.title('The image data')"
   ]
  },
  {
   "cell_type": "code",
   "execution_count": 66,
   "metadata": {},
   "outputs": [],
   "source": [
    "from sklearn.model_selection import train_test_split\n",
    "x_train, x_test, y_train, y_test = train_test_split(image_train, target_train_binary, test_size = 0.3, random_state = 42)"
   ]
  },
  {
   "cell_type": "code",
   "execution_count": 67,
   "metadata": {},
   "outputs": [],
   "source": [
    "import keras\n",
    "from keras.models import Sequential\n",
    "from keras.layers import Dense, Conv2D, MaxPooling2D, Flatten, Dropout"
   ]
  },
  {
   "cell_type": "code",
   "execution_count": 68,
   "metadata": {},
   "outputs": [],
   "source": [
    "batch_size = 128\n",
    "num_classes = 24\n",
    "epochs = 20"
   ]
  },
  {
   "cell_type": "code",
   "execution_count": 69,
   "metadata": {},
   "outputs": [],
   "source": [
    "x_train = x_train / 255\n",
    "x_test = x_test / 255"
   ]
  },
  {
   "cell_type": "code",
   "execution_count": 70,
   "metadata": {},
   "outputs": [],
   "source": [
    "x_train = x_train.reshape(x_train.shape[0], 28, 28, 1)\n",
    "x_test = x_test.reshape(x_test.shape[0], 28, 28, 1)"
   ]
  },
  {
   "cell_type": "code",
   "execution_count": 71,
   "metadata": {},
   "outputs": [
    {
     "data": {
      "text/plain": [
       "<matplotlib.image.AxesImage at 0x1ba21e86be0>"
      ]
     },
     "execution_count": 71,
     "metadata": {},
     "output_type": "execute_result"
    },
    {
     "data": {
      "image/png": "[encoded data removed]",
      "text/plain": [
       "<Figure size 432x288 with 1 Axes>"
      ]
     },
     "metadata": {
      "needs_background": "light"
     },
     "output_type": "display_data"
    }
   ],
   "source": [
    "plt.imshow(x_train[0].reshape(28,28))"
   ]
  },
  {
   "cell_type": "code",
   "execution_count": 72,
   "metadata": {},
   "outputs": [],
   "source": [
    "model = Sequential()\n",
    "model.add(Conv2D(64, kernel_size=(3,3), activation = 'relu', input_shape=(28, 28 ,1) ))\n",
    "model.add(MaxPooling2D(pool_size = (2, 2)))\n",
    "\n",
    "model.add(Conv2D(64, kernel_size = (3, 3), activation = 'relu'))\n",
    "model.add(MaxPooling2D(pool_size = (2, 2)))\n",
    "\n",
    "model.add(Conv2D(64, kernel_size = (3, 3), activation = 'relu'))\n",
    "model.add(MaxPooling2D(pool_size = (2, 2)))\n",
    "\n",
    "model.add(Flatten())\n",
    "model.add(Dense(128, activation = 'relu'))\n",
    "model.add(Dropout(0.20))\n",
    "model.add(Dense(num_classes, activation = 'softmax'))"
   ]
  },
  {
   "cell_type": "code",
   "execution_count": 73,
   "metadata": {},
   "outputs": [],
   "source": [
    "model.compile(loss = keras.losses.categorical_crossentropy, optimizer=keras.optimizers.Adam(),\n",
    "              metrics=['accuracy'])"
   ]
  },
  {
   "cell_type": "code",
   "execution_count": null,
   "metadata": {
    "scrolled": true
   },
   "outputs": [],
   "source": [
    "history = model.fit(x_train, y_train, validation_data = (x_test, y_test), epochs=epochs, batch_size=batch_size)"
   ]
  },
  {
   "cell_type": "code",
   "execution_count": null,
   "metadata": {},
   "outputs": [],
   "source": [
    "model.save(\"../Models/my_model_2.h5\")"
   ]
  },
  {
   "cell_type": "code",
   "execution_count": null,
   "metadata": {},
   "outputs": [],
   "source": [
    "from keras.models import load_model\n",
    "model = load_model(\"../Models/my_model_2.h5\")"
   ]
  },
  {
   "cell_type": "code",
   "execution_count": null,
   "metadata": {
    "scrolled": false
   },
   "outputs": [],
   "source": [
    "print(model.summary())"
   ]
  },
  {
   "cell_type": "markdown",
   "metadata": {
    "scrolled": true
   },
   "source": [
    "maybe later, have to set an environmental variabel first: <br>\n",
    "\"from keras.utils.vis_utils import plot_model <br>\n",
    "plot_model(model, show_shapes=True, show_layer_names=True)\""
   ]
  },
  {
   "cell_type": "code",
   "execution_count": null,
   "metadata": {},
   "outputs": [],
   "source": [
    "plt.plot(history.history['acc'])\n",
    "plt.plot(history.history['val_acc'])\n",
    "plt.title(\"Accuracy\")\n",
    "plt.xlabel('epoch')\n",
    "plt.ylabel('accuracy')\n",
    "plt.legend(['train','test'])\n",
    "plt.show()"
   ]
  },
  {
   "cell_type": "markdown",
   "metadata": {},
   "source": [
    "### Test Data"
   ]
  },
  {
   "cell_type": "code",
   "execution_count": 2,
   "metadata": {},
   "outputs": [],
   "source": [
    "data_test = pd.read_csv(\"../Data/sign_mnist_test.csv\")"
   ]
  },
  {
   "cell_type": "code",
   "execution_count": 3,
   "metadata": {},
   "outputs": [
    {
     "data": {
      "text/plain": [
       "Index(['label', 'pixel1', 'pixel2', 'pixel3', 'pixel4', 'pixel5', 'pixel6',\n",
       "       'pixel7', 'pixel8', 'pixel9',\n",
       "       ...\n",
       "       'pixel775', 'pixel776', 'pixel777', 'pixel778', 'pixel779', 'pixel780',\n",
       "       'pixel781', 'pixel782', 'pixel783', 'pixel784'],\n",
       "      dtype='object', length=785)"
      ]
     },
     "execution_count": 3,
     "metadata": {},
     "output_type": "execute_result"
    }
   ],
   "source": [
    "data_test.columns"
   ]
  },
  {
   "cell_type": "code",
   "execution_count": 4,
   "metadata": {},
   "outputs": [],
   "source": [
    "target_test_num = data_test[\"label\"].values"
   ]
  },
  {
   "cell_type": "code",
   "execution_count": 5,
   "metadata": {},
   "outputs": [],
   "source": [
    "target_test = []\n",
    "for i in target_test_num:\n",
    "    target_test.append(string.ascii_uppercase[i])    "
   ]
  },
  {
   "cell_type": "code",
   "execution_count": 6,
   "metadata": {},
   "outputs": [
    {
     "data": {
      "text/plain": [
       "array(['G', 'F', 'K', ..., 'C', 'E', 'C'], dtype='<U1')"
      ]
     },
     "execution_count": 6,
     "metadata": {},
     "output_type": "execute_result"
    }
   ],
   "source": [
    "target_test = np.array(target_test)\n",
    "target_test"
   ]
  },
  {
   "cell_type": "code",
   "execution_count": 7,
   "metadata": {},
   "outputs": [
    {
     "data": {
      "text/plain": [
       "array(['A', 'B', 'C', 'D', 'E', 'F', 'G', 'H', 'I', 'K', 'L', 'M', 'N',\n",
       "       'O', 'P', 'Q', 'R', 'S', 'T', 'U', 'V', 'W', 'X', 'Y'], dtype='<U1')"
      ]
     },
     "execution_count": 7,
     "metadata": {},
     "output_type": "execute_result"
    }
   ],
   "source": [
    "np.unique(target_test)"
   ]
  },
  {
   "cell_type": "code",
   "execution_count": 9,
   "metadata": {},
   "outputs": [],
   "source": [
    "label_binrizer = LabelBinarizer()\n",
    "y_test_new = label_binrizer.fit_transform(target_test)"
   ]
  },
  {
   "cell_type": "code",
   "execution_count": 10,
   "metadata": {
    "scrolled": true
   },
   "outputs": [
    {
     "data": {
      "text/plain": [
       "array([[0, 0, 0, ..., 0, 0, 0],\n",
       "       [0, 0, 0, ..., 0, 0, 0],\n",
       "       [0, 0, 0, ..., 0, 0, 0],\n",
       "       ...,\n",
       "       [0, 0, 1, ..., 0, 0, 0],\n",
       "       [0, 0, 0, ..., 0, 0, 0],\n",
       "       [0, 0, 1, ..., 0, 0, 0]])"
      ]
     },
     "execution_count": 10,
     "metadata": {},
     "output_type": "execute_result"
    }
   ],
   "source": [
    "y_test_new"
   ]
  },
  {
   "cell_type": "code",
   "execution_count": null,
   "metadata": {},
   "outputs": [],
   "source": []
  },
  {
   "cell_type": "code",
   "execution_count": 11,
   "metadata": {},
   "outputs": [],
   "source": [
    "image_test = data_test.drop('label', axis = 1)"
   ]
  },
  {
   "cell_type": "code",
   "execution_count": 12,
   "metadata": {
    "scrolled": true
   },
   "outputs": [],
   "source": [
    "image_test = image_test.values"
   ]
  },
  {
   "cell_type": "code",
   "execution_count": 13,
   "metadata": {},
   "outputs": [
    {
     "data": {
      "text/plain": [
       "(7172, 784)"
      ]
     },
     "execution_count": 13,
     "metadata": {},
     "output_type": "execute_result"
    }
   ],
   "source": [
    "image_test.shape"
   ]
  },
  {
   "cell_type": "code",
   "execution_count": 14,
   "metadata": {},
   "outputs": [
    {
     "data": {
      "text/plain": [
       "array([[149, 149, 150, ..., 112, 120, 107],\n",
       "       [126, 128, 131, ..., 184, 182, 180],\n",
       "       [ 85,  88,  92, ..., 225, 224, 222],\n",
       "       ...,\n",
       "       [190, 191, 190, ..., 211, 209, 208],\n",
       "       [201, 205, 208, ...,  67,  70,  63],\n",
       "       [173, 174, 173, ..., 195, 193, 192]], dtype=int64)"
      ]
     },
     "execution_count": 14,
     "metadata": {},
     "output_type": "execute_result"
    }
   ],
   "source": [
    "image_test"
   ]
  },
  {
   "cell_type": "code",
   "execution_count": 15,
   "metadata": {},
   "outputs": [],
   "source": [
    "X_test_new = image_test.reshape(image_test.shape[0], 28, 28, 1)"
   ]
  },
  {
   "cell_type": "code",
   "execution_count": 16,
   "metadata": {},
   "outputs": [
    {
     "data": {
      "text/plain": [
       "(7172, 28, 28, 1)"
      ]
     },
     "execution_count": 16,
     "metadata": {},
     "output_type": "execute_result"
    }
   ],
   "source": [
    "X_test_new.shape"
   ]
  },
  {
   "cell_type": "code",
   "execution_count": 17,
   "metadata": {},
   "outputs": [
    {
     "data": {
      "text/plain": [
       "array([[[[149],\n",
       "         [149],\n",
       "         [150],\n",
       "         ...,\n",
       "         [150],\n",
       "         [150],\n",
       "         [149]],\n",
       "\n",
       "        [[150],\n",
       "         [150],\n",
       "         [150],\n",
       "         ...,\n",
       "         [151],\n",
       "         [150],\n",
       "         [151]],\n",
       "\n",
       "        [[150],\n",
       "         [151],\n",
       "         [151],\n",
       "         ...,\n",
       "         [151],\n",
       "         [151],\n",
       "         [152]],\n",
       "\n",
       "        ...,\n",
       "\n",
       "        [[ 69],\n",
       "         [ 69],\n",
       "         [ 77],\n",
       "         ...,\n",
       "         [116],\n",
       "         [113],\n",
       "         [118]],\n",
       "\n",
       "        [[ 74],\n",
       "         [ 75],\n",
       "         [ 76],\n",
       "         ...,\n",
       "         [110],\n",
       "         [116],\n",
       "         [113]],\n",
       "\n",
       "        [[ 75],\n",
       "         [ 74],\n",
       "         [ 74],\n",
       "         ...,\n",
       "         [112],\n",
       "         [120],\n",
       "         [107]]],\n",
       "\n",
       "\n",
       "       [[[126],\n",
       "         [128],\n",
       "         [131],\n",
       "         ...,\n",
       "         [133],\n",
       "         [134],\n",
       "         [132]],\n",
       "\n",
       "        [[129],\n",
       "         [132],\n",
       "         [134],\n",
       "         ...,\n",
       "         [136],\n",
       "         [136],\n",
       "         [134]],\n",
       "\n",
       "        [[133],\n",
       "         [135],\n",
       "         [138],\n",
       "         ...,\n",
       "         [140],\n",
       "         [139],\n",
       "         [138]],\n",
       "\n",
       "        ...,\n",
       "\n",
       "        [[173],\n",
       "         [174],\n",
       "         [177],\n",
       "         ...,\n",
       "         [184],\n",
       "         [182],\n",
       "         [181]],\n",
       "\n",
       "        [[172],\n",
       "         [174],\n",
       "         [177],\n",
       "         ...,\n",
       "         [184],\n",
       "         [182],\n",
       "         [181]],\n",
       "\n",
       "        [[172],\n",
       "         [174],\n",
       "         [177],\n",
       "         ...,\n",
       "         [184],\n",
       "         [182],\n",
       "         [180]]],\n",
       "\n",
       "\n",
       "       [[[ 85],\n",
       "         [ 88],\n",
       "         [ 92],\n",
       "         ...,\n",
       "         [182],\n",
       "         [181],\n",
       "         [178]],\n",
       "\n",
       "        [[ 86],\n",
       "         [ 88],\n",
       "         [ 93],\n",
       "         ...,\n",
       "         [183],\n",
       "         [181],\n",
       "         [179]],\n",
       "\n",
       "        [[ 86],\n",
       "         [ 89],\n",
       "         [ 93],\n",
       "         ...,\n",
       "         [185],\n",
       "         [183],\n",
       "         [181]],\n",
       "\n",
       "        ...,\n",
       "\n",
       "        [[ 91],\n",
       "         [ 94],\n",
       "         [ 97],\n",
       "         ...,\n",
       "         [224],\n",
       "         [222],\n",
       "         [221]],\n",
       "\n",
       "        [[ 90],\n",
       "         [ 92],\n",
       "         [ 96],\n",
       "         ...,\n",
       "         [225],\n",
       "         [224],\n",
       "         [222]],\n",
       "\n",
       "        [[ 89],\n",
       "         [ 91],\n",
       "         [ 94],\n",
       "         ...,\n",
       "         [225],\n",
       "         [224],\n",
       "         [222]]],\n",
       "\n",
       "\n",
       "       ...,\n",
       "\n",
       "\n",
       "       [[[190],\n",
       "         [191],\n",
       "         [190],\n",
       "         ...,\n",
       "         [185],\n",
       "         [184],\n",
       "         [183]],\n",
       "\n",
       "        [[193],\n",
       "         [193],\n",
       "         [193],\n",
       "         ...,\n",
       "         [186],\n",
       "         [185],\n",
       "         [184]],\n",
       "\n",
       "        [[195],\n",
       "         [194],\n",
       "         [195],\n",
       "         ...,\n",
       "         [187],\n",
       "         [186],\n",
       "         [187]],\n",
       "\n",
       "        ...,\n",
       "\n",
       "        [[214],\n",
       "         [215],\n",
       "         [213],\n",
       "         ...,\n",
       "         [208],\n",
       "         [208],\n",
       "         [208]],\n",
       "\n",
       "        [[214],\n",
       "         [215],\n",
       "         [209],\n",
       "         ...,\n",
       "         [209],\n",
       "         [208],\n",
       "         [207]],\n",
       "\n",
       "        [[215],\n",
       "         [215],\n",
       "         [207],\n",
       "         ...,\n",
       "         [211],\n",
       "         [209],\n",
       "         [208]]],\n",
       "\n",
       "\n",
       "       [[[201],\n",
       "         [205],\n",
       "         [208],\n",
       "         ...,\n",
       "         [239],\n",
       "         [239],\n",
       "         [239]],\n",
       "\n",
       "        [[206],\n",
       "         [209],\n",
       "         [212],\n",
       "         ...,\n",
       "         [242],\n",
       "         [242],\n",
       "         [242]],\n",
       "\n",
       "        [[210],\n",
       "         [214],\n",
       "         [216],\n",
       "         ...,\n",
       "         [246],\n",
       "         [245],\n",
       "         [244]],\n",
       "\n",
       "        ...,\n",
       "\n",
       "        [[255],\n",
       "         [255],\n",
       "         [255],\n",
       "         ...,\n",
       "         [255],\n",
       "         [200],\n",
       "         [142]],\n",
       "\n",
       "        [[255],\n",
       "         [255],\n",
       "         [255],\n",
       "         ...,\n",
       "         [ 99],\n",
       "         [ 80],\n",
       "         [ 77]],\n",
       "\n",
       "        [[255],\n",
       "         [255],\n",
       "         [255],\n",
       "         ...,\n",
       "         [ 67],\n",
       "         [ 70],\n",
       "         [ 63]]],\n",
       "\n",
       "\n",
       "       [[[173],\n",
       "         [174],\n",
       "         [173],\n",
       "         ...,\n",
       "         [168],\n",
       "         [167],\n",
       "         [166]],\n",
       "\n",
       "        [[176],\n",
       "         [176],\n",
       "         [176],\n",
       "         ...,\n",
       "         [168],\n",
       "         [168],\n",
       "         [167]],\n",
       "\n",
       "        [[178],\n",
       "         [177],\n",
       "         [178],\n",
       "         ...,\n",
       "         [169],\n",
       "         [168],\n",
       "         [169]],\n",
       "\n",
       "        ...,\n",
       "\n",
       "        [[198],\n",
       "         [199],\n",
       "         [199],\n",
       "         ...,\n",
       "         [192],\n",
       "         [192],\n",
       "         [192]],\n",
       "\n",
       "        [[198],\n",
       "         [200],\n",
       "         [193],\n",
       "         ...,\n",
       "         [193],\n",
       "         [192],\n",
       "         [191]],\n",
       "\n",
       "        [[199],\n",
       "         [201],\n",
       "         [190],\n",
       "         ...,\n",
       "         [195],\n",
       "         [193],\n",
       "         [192]]]], dtype=int64)"
      ]
     },
     "execution_count": 17,
     "metadata": {},
     "output_type": "execute_result"
    }
   ],
   "source": [
    "X_test_new"
   ]
  },
  {
   "cell_type": "code",
   "execution_count": 18,
   "metadata": {},
   "outputs": [],
   "source": [
    "X_test_new = X_test_new/255"
   ]
  },
  {
   "cell_type": "code",
   "execution_count": 23,
   "metadata": {},
   "outputs": [],
   "source": [
    "from keras.models import load_model\n",
    "model = load_model(\"../Models/my_model_new_data.h5\")"
   ]
  },
  {
   "cell_type": "code",
   "execution_count": 24,
   "metadata": {},
   "outputs": [],
   "source": [
    "y_predict = model.predict(X_test_new)"
   ]
  },
  {
   "cell_type": "code",
   "execution_count": 25,
   "metadata": {
    "scrolled": true
   },
   "outputs": [
    {
     "data": {
      "text/plain": [
       "(7172, 24)"
      ]
     },
     "execution_count": 25,
     "metadata": {},
     "output_type": "execute_result"
    }
   ],
   "source": [
    "y_predict.shape"
   ]
  },
  {
   "cell_type": "code",
   "execution_count": 26,
   "metadata": {},
   "outputs": [
    {
     "data": {
      "text/plain": [
       "0.5612102621305075"
      ]
     },
     "execution_count": 26,
     "metadata": {},
     "output_type": "execute_result"
    }
   ],
   "source": [
    "accuracy_score(y_test_new, y_predict.round())"
   ]
  },
  {
   "cell_type": "code",
   "execution_count": 22,
   "metadata": {},
   "outputs": [
    {
     "data": {
      "text/plain": [
       "0.8919408812046848"
      ]
     },
     "execution_count": 22,
     "metadata": {},
     "output_type": "execute_result"
    }
   ],
   "source": [
    "accuracy_score(y_test_new, y_predict.round())"
   ]
  },
  {
   "cell_type": "code",
   "execution_count": 92,
   "metadata": {
    "scrolled": false
   },
   "outputs": [
    {
     "data": {
      "text/plain": [
       "0.8817624093697713"
      ]
     },
     "execution_count": 92,
     "metadata": {},
     "output_type": "execute_result"
    }
   ],
   "source": [
    "accuracy_score(y_test_new, y_predict.round())"
   ]
  },
  {
   "cell_type": "code",
   "execution_count": 94,
   "metadata": {},
   "outputs": [],
   "source": [
    "import numpy as np\n",
    "import cv2\n",
    "\n",
    "cap = cv2.VideoCapture(0)\n",
    "\n",
    "# Define the codec and create VideoWriter object\n",
    "# fourcc = cv2.VideoWriter_fourcc(*'XVID')\n",
    "# out = cv2.VideoWriter('output.avi',fourcc, 20.0, (640,480))\n",
    "\n",
    "while(cap.isOpened()):\n",
    "    ret, frame = cap.read()\n",
    "    if ret==True:\n",
    "#        frame = cv2.flip(frame,0)\n",
    "\n",
    "        # write the flipped frame\n",
    "        # out.write(frame)\n",
    "\n",
    "        cv2.imshow('frame',frame)\n",
    "        if cv2.waitKey(1) & 0xFF == ord('q'):\n",
    "            break\n",
    "    else:\n",
    "        break\n",
    "\n",
    "# Release everything if job is finished\n",
    "cv2.imshow('wait frame',frame)\n",
    "cv2.waitKey(10000)\n",
    "cap.release()\n",
    "cv2.destroyAllWindows()"
   ]
  },
  {
   "cell_type": "code",
   "execution_count": 95,
   "metadata": {},
   "outputs": [],
   "source": [
    "frame2 = frame"
   ]
  },
  {
   "cell_type": "code",
   "execution_count": 118,
   "metadata": {},
   "outputs": [],
   "source": [
    " #frame = frame2"
   ]
  },
  {
   "cell_type": "code",
   "execution_count": 119,
   "metadata": {},
   "outputs": [],
   "source": [
    "# Correcting color to gray\n",
    "frame = cv2.cvtColor(frame, cv2.COLOR_BGR2GRAY)\n",
    "\n",
    "# Smoothing images\n",
    "kernel = np.ones((5,5),np.float32)/30\n",
    "frame = cv2.filter2D(frame,-1,kernel)\n",
    "\n",
    "# Correcting sizing for analysis\n",
    "frame = cv2.resize(frame, (28, 28)) "
   ]
  },
  {
   "cell_type": "code",
   "execution_count": 122,
   "metadata": {},
   "outputs": [],
   "source": [
    "np.save('data.npy', frame)"
   ]
  },
  {
   "cell_type": "code",
   "execution_count": null,
   "metadata": {},
   "outputs": [],
   "source": [
    "new_num_arr = np.load('data.npy')"
   ]
  },
  {
   "cell_type": "code",
   "execution_count": 121,
   "metadata": {
    "scrolled": true
   },
   "outputs": [
    {
     "data": {
      "text/plain": [
       "<matplotlib.image.AxesImage at 0x1f8927d1208>"
      ]
     },
     "execution_count": 121,
     "metadata": {},
     "output_type": "execute_result"
    },
    {
     "data": {
      "image/png": "[encoded data removed]",
      "text/plain": [
       "<Figure size 432x288 with 1 Axes>"
      ]
     },
     "metadata": {
      "needs_background": "light"
     },
     "output_type": "display_data"
    }
   ],
   "source": [
    "plt.imshow(frame)"
   ]
  },
  {
   "cell_type": "code",
   "execution_count": null,
   "metadata": {},
   "outputs": [],
   "source": []
  },
  {
   "cell_type": "code",
   "execution_count": 98,
   "metadata": {},
   "outputs": [
    {
     "data": {
      "text/plain": [
       "(28, 28)"
      ]
     },
     "execution_count": 98,
     "metadata": {},
     "output_type": "execute_result"
    }
   ],
   "source": [
    "frame.shape"
   ]
  },
  {
   "cell_type": "code",
   "execution_count": 99,
   "metadata": {},
   "outputs": [],
   "source": [
    "frame = frame.reshape(1, 28, 28, 1)"
   ]
  },
  {
   "cell_type": "code",
   "execution_count": 100,
   "metadata": {},
   "outputs": [],
   "source": [
    "y_frame = model.predict(frame)"
   ]
  },
  {
   "cell_type": "code",
   "execution_count": 101,
   "metadata": {
    "scrolled": true
   },
   "outputs": [
    {
     "data": {
      "text/plain": [
       "array([[0., 0., 1., 0., 0., 0., 0., 0., 0., 0., 0., 0., 0., 0., 0., 0.,\n",
       "        0., 0., 0., 0., 0., 0., 0., 0.]], dtype=float32)"
      ]
     },
     "execution_count": 101,
     "metadata": {},
     "output_type": "execute_result"
    }
   ],
   "source": [
    "y_frame"
   ]
  },
  {
   "cell_type": "code",
   "execution_count": 102,
   "metadata": {},
   "outputs": [
    {
     "name": "stdout",
     "output_type": "stream",
     "text": [
      "C\n"
     ]
    }
   ],
   "source": [
    "for i in range(24):\n",
    "    if y_frame[0][i] == 1:\n",
    "        print(np.unique(target_train)[i])"
   ]
  },
  {
   "cell_type": "code",
   "execution_count": 103,
   "metadata": {},
   "outputs": [
    {
     "data": {
      "text/plain": [
       "0.0"
      ]
     },
     "execution_count": 103,
     "metadata": {},
     "output_type": "execute_result"
    }
   ],
   "source": [
    "y_frame[0][22]"
   ]
  },
  {
   "cell_type": "code",
   "execution_count": 104,
   "metadata": {},
   "outputs": [
    {
     "name": "stdout",
     "output_type": "stream",
     "text": [
      "Collecting pypng\n",
      "  Downloading https://files.pythonhosted.org/packages/bc/fb/f719f1ac965e2101aa6ea6f54ef8b40f8fbb033f6ad07c017663467f5147/pypng-0.0.20.tar.gz (649kB)\n",
      "Building wheels for collected packages: pypng\n",
      "  Building wheel for pypng (setup.py): started\n",
      "  Building wheel for pypng (setup.py): finished with status 'done'\n",
      "  Stored in directory: C:\\Users\\Onurun\\AppData\\Local\\pip\\Cache\\wheels\\41\\6b\\ef\\0493b536b6d4722c2ae9486691b1d49b922b9877922beeabb3\n",
      "Successfully built pypng\n",
      "Installing collected packages: pypng\n",
      "Successfully installed pypng-0.0.20\n",
      "Note: you may need to restart the kernel to use updated packages.\n"
     ]
    }
   ],
   "source": [
    "pip install pypng"
   ]
  },
  {
   "cell_type": "code",
   "execution_count": null,
   "metadata": {},
   "outputs": [],
   "source": [
    "import png\n",
    "f = open('ramp.png', 'wb')      # binary mode is important\n",
    "w = png.Writer(255, 1, greyscale=True)\n",
    "w.write(f, [range(256)])\n",
    "f.close()"
   ]
  },
  {
   "cell_type": "code",
   "execution_count": 106,
   "metadata": {},
   "outputs": [],
   "source": [
    "import png"
   ]
  },
  {
   "cell_type": "code",
   "execution_count": 107,
   "metadata": {},
   "outputs": [],
   "source": [
    "w = png.Writer(255, 1, greyscale=True)"
   ]
  },
  {
   "cell_type": "code",
   "execution_count": 114,
   "metadata": {},
   "outputs": [
    {
     "ename": "ModuleNotFoundError",
     "evalue": "No module named 'Image'",
     "output_type": "error",
     "traceback": [
      "\u001b[1;31m---------------------------------------------------------------------------\u001b[0m",
      "\u001b[1;31mModuleNotFoundError\u001b[0m                       Traceback (most recent call last)",
      "\u001b[1;32m<ipython-input-114-a73c4ff6cc73>\u001b[0m in \u001b[0;36m<module>\u001b[1;34m\u001b[0m\n\u001b[1;32m----> 1\u001b[1;33m \u001b[1;32mimport\u001b[0m \u001b[0mImage\u001b[0m\u001b[1;33m\u001b[0m\u001b[1;33m\u001b[0m\u001b[0m\n\u001b[0m",
      "\u001b[1;31mModuleNotFoundError\u001b[0m: No module named 'Image'"
     ]
    }
   ],
   "source": [
    "import Image"
   ]
  },
  {
   "cell_type": "code",
   "execution_count": 113,
   "metadata": {},
   "outputs": [
    {
     "ename": "NameError",
     "evalue": "name 'Image' is not defined",
     "output_type": "error",
     "traceback": [
      "\u001b[1;31m---------------------------------------------------------------------------\u001b[0m",
      "\u001b[1;31mNameError\u001b[0m                                 Traceback (most recent call last)",
      "\u001b[1;32m<ipython-input-113-08d38082a4e0>\u001b[0m in \u001b[0;36m<module>\u001b[1;34m\u001b[0m\n\u001b[1;32m----> 1\u001b[1;33m \u001b[0mim\u001b[0m \u001b[1;33m=\u001b[0m \u001b[0mImage\u001b[0m\u001b[1;33m.\u001b[0m\u001b[0mfromarray\u001b[0m\u001b[1;33m(\u001b[0m\u001b[0mimage\u001b[0m\u001b[1;33m)\u001b[0m\u001b[1;33m\u001b[0m\u001b[1;33m\u001b[0m\u001b[0m\n\u001b[0m\u001b[0;32m      2\u001b[0m \u001b[0mim\u001b[0m\u001b[1;33m.\u001b[0m\u001b[0msave\u001b[0m\u001b[1;33m(\u001b[0m\u001b[1;34m'test.png'\u001b[0m\u001b[1;33m)\u001b[0m\u001b[1;33m\u001b[0m\u001b[1;33m\u001b[0m\u001b[0m\n",
      "\u001b[1;31mNameError\u001b[0m: name 'Image' is not defined"
     ]
    }
   ],
   "source": [
    "im = Image.fromarray(image)\n",
    "im.save('test.png')"
   ]
  },
  {
   "cell_type": "code",
   "execution_count": null,
   "metadata": {},
   "outputs": [],
   "source": []
  },
  {
   "cell_type": "code",
   "execution_count": null,
   "metadata": {},
   "outputs": [],
   "source": []
  },
  {
   "cell_type": "code",
   "execution_count": null,
   "metadata": {},
   "outputs": [],
   "source": []
  },
  {
   "cell_type": "code",
   "execution_count": 455,
   "metadata": {},
   "outputs": [
    {
     "data": {
      "text/plain": [
       "array(['D', 'G', 'C', 'C', 'N', 'Q', 'I', 'W', 'D', 'D', 'S', 'K', 'Q',\n",
       "       'W', 'U', 'Q', 'R', 'N', 'N', 'T', 'S', 'V', 'Q', 'X', 'D', 'X',\n",
       "       'Y', 'S', 'W', 'B', 'B', 'M', 'C', 'G', 'C', 'M', 'X', 'C', 'D',\n",
       "       'N', 'L', 'P', 'U'], dtype='<U1')"
      ]
     },
     "execution_count": 455,
     "metadata": {},
     "output_type": "execute_result"
    }
   ],
   "source": [
    "target_train[:43]"
   ]
  },
  {
   "cell_type": "code",
   "execution_count": 456,
   "metadata": {},
   "outputs": [
    {
     "data": {
      "text/plain": [
       "'L'"
      ]
     },
     "execution_count": 456,
     "metadata": {},
     "output_type": "execute_result"
    }
   ],
   "source": [
    "target_train[40]"
   ]
  },
  {
   "cell_type": "code",
   "execution_count": 457,
   "metadata": {},
   "outputs": [
    {
     "data": {
      "text/plain": [
       "<matplotlib.image.AxesImage at 0x1ec9985e438>"
      ]
     },
     "execution_count": 457,
     "metadata": {},
     "output_type": "execute_result"
    },
    {
     "data": {
      "image/png": "[encoded data removed]",
      "text/plain": [
       "<Figure size 432x288 with 1 Axes>"
      ]
     },
     "metadata": {
      "needs_background": "light"
     },
     "output_type": "display_data"
    }
   ],
   "source": [
    "plt.imshow(image_train[40].reshape(28,28))"
   ]
  },
  {
   "cell_type": "code",
   "execution_count": null,
   "metadata": {},
   "outputs": [],
   "source": []
  },
  {
   "cell_type": "code",
   "execution_count": null,
   "metadata": {},
   "outputs": [],
   "source": []
  },
  {
   "cell_type": "code",
   "execution_count": null,
   "metadata": {},
   "outputs": [],
   "source": []
  },
  {
   "cell_type": "code",
   "execution_count": 161,
   "metadata": {
    "scrolled": false
   },
   "outputs": [
    {
     "data": {
      "text/plain": [
       "<matplotlib.image.AxesImage at 0x2844372eef0>"
      ]
     },
     "execution_count": 161,
     "metadata": {},
     "output_type": "execute_result"
    },
    {
     "data": {
      "image/png": "[encoded data removed]",
      "text/plain": [
       "<Figure size 432x288 with 1 Axes>"
      ]
     },
     "metadata": {
      "needs_background": "light"
     },
     "output_type": "display_data"
    }
   ],
   "source": [
    "plt.imshow(images[31])"
   ]
  },
  {
   "cell_type": "code",
   "execution_count": 148,
   "metadata": {},
   "outputs": [
    {
     "data": {
      "text/plain": [
       "27455"
      ]
     },
     "execution_count": 148,
     "metadata": {},
     "output_type": "execute_result"
    }
   ],
   "source": [
    "len(list(labels))"
   ]
  },
  {
   "cell_type": "code",
   "execution_count": 152,
   "metadata": {},
   "outputs": [],
   "source": [
    "list_12 = []\n",
    "for i in range(27454):\n",
    "    if labels[i] == 12:\n",
    "        list_12.append(i)"
   ]
  },
  {
   "cell_type": "code",
   "execution_count": 162,
   "metadata": {},
   "outputs": [
    {
     "data": {
      "text/plain": [
       "12"
      ]
     },
     "execution_count": 162,
     "metadata": {},
     "output_type": "execute_result"
    }
   ],
   "source": [
    "labels[31]"
   ]
  },
  {
   "cell_type": "code",
   "execution_count": 153,
   "metadata": {},
   "outputs": [
    {
     "data": {
      "text/plain": [
       "[31,\n",
       " 35,\n",
       " 70,\n",
       " 100,\n",
       " 103,\n",
       " 116,\n",
       " 142,\n",
       " 374,\n",
       " 396,\n",
       " 405,\n",
       " 463,\n",
       " 524,\n",
       " 529,\n",
       " 559,\n",
       " 574,\n",
       " 586,\n",
       " 596,\n",
       " 614,\n",
       " 657,\n",
       " 697,\n",
       " 724,\n",
       " 732,\n",
       " 739,\n",
       " 745,\n",
       " 769,\n",
       " 787,\n",
       " 799,\n",
       " 809,\n",
       " 823,\n",
       " 834,\n",
       " 920,\n",
       " 941,\n",
       " 970,\n",
       " 996,\n",
       " 1006,\n",
       " 1024,\n",
       " 1045,\n",
       " 1067,\n",
       " 1118,\n",
       " 1137,\n",
       " 1159,\n",
       " 1193,\n",
       " 1207,\n",
       " 1215,\n",
       " 1261,\n",
       " 1362,\n",
       " 1482,\n",
       " 1492,\n",
       " 1503,\n",
       " 1532,\n",
       " 1548,\n",
       " 1553,\n",
       " 1573,\n",
       " 1599,\n",
       " 1603,\n",
       " 1623,\n",
       " 1768,\n",
       " 1801,\n",
       " 1830,\n",
       " 1843,\n",
       " 1862,\n",
       " 1889,\n",
       " 1929,\n",
       " 1933,\n",
       " 1946,\n",
       " 1953,\n",
       " 2003,\n",
       " 2027,\n",
       " 2151,\n",
       " 2166,\n",
       " 2257,\n",
       " 2270,\n",
       " 2289,\n",
       " 2319,\n",
       " 2322,\n",
       " 2332,\n",
       " 2334,\n",
       " 2368,\n",
       " 2372,\n",
       " 2374,\n",
       " 2381,\n",
       " 2404,\n",
       " 2417,\n",
       " 2457,\n",
       " 2476,\n",
       " 2481,\n",
       " 2482,\n",
       " 2491,\n",
       " 2495,\n",
       " 2520,\n",
       " 2560,\n",
       " 2585,\n",
       " 2614,\n",
       " 2633,\n",
       " 2658,\n",
       " 2667,\n",
       " 2701,\n",
       " 2706,\n",
       " 2712,\n",
       " 2757,\n",
       " 2803,\n",
       " 2806,\n",
       " 2859,\n",
       " 2887,\n",
       " 2952,\n",
       " 3009,\n",
       " 3025,\n",
       " 3030,\n",
       " 3063,\n",
       " 3064,\n",
       " 3066,\n",
       " 3130,\n",
       " 3200,\n",
       " 3235,\n",
       " 3306,\n",
       " 3312,\n",
       " 3326,\n",
       " 3330,\n",
       " 3338,\n",
       " 3339,\n",
       " 3342,\n",
       " 3409,\n",
       " 3451,\n",
       " 3464,\n",
       " 3474,\n",
       " 3536,\n",
       " 3568,\n",
       " 3587,\n",
       " 3616,\n",
       " 3664,\n",
       " 3689,\n",
       " 3758,\n",
       " 3764,\n",
       " 3792,\n",
       " 3826,\n",
       " 3872,\n",
       " 3910,\n",
       " 3911,\n",
       " 3920,\n",
       " 3967,\n",
       " 4004,\n",
       " 4006,\n",
       " 4043,\n",
       " 4089,\n",
       " 4098,\n",
       " 4107,\n",
       " 4149,\n",
       " 4240,\n",
       " 4286,\n",
       " 4297,\n",
       " 4312,\n",
       " 4320,\n",
       " 4327,\n",
       " 4337,\n",
       " 4377,\n",
       " 4392,\n",
       " 4409,\n",
       " 4413,\n",
       " 4434,\n",
       " 4448,\n",
       " 4472,\n",
       " 4475,\n",
       " 4540,\n",
       " 4567,\n",
       " 4569,\n",
       " 4585,\n",
       " 4590,\n",
       " 4599,\n",
       " 4616,\n",
       " 4625,\n",
       " 4641,\n",
       " 4656,\n",
       " 4739,\n",
       " 4760,\n",
       " 4767,\n",
       " 4793,\n",
       " 4799,\n",
       " 4800,\n",
       " 4823,\n",
       " 4825,\n",
       " 4883,\n",
       " 4911,\n",
       " 4939,\n",
       " 4953,\n",
       " 4976,\n",
       " 4993,\n",
       " 4994,\n",
       " 5009,\n",
       " 5023,\n",
       " 5046,\n",
       " 5102,\n",
       " 5108,\n",
       " 5136,\n",
       " 5152,\n",
       " 5162,\n",
       " 5174,\n",
       " 5196,\n",
       " 5208,\n",
       " 5243,\n",
       " 5286,\n",
       " 5287,\n",
       " 5303,\n",
       " 5355,\n",
       " 5410,\n",
       " 5427,\n",
       " 5463,\n",
       " 5465,\n",
       " 5476,\n",
       " 5484,\n",
       " 5524,\n",
       " 5532,\n",
       " 5542,\n",
       " 5559,\n",
       " 5688,\n",
       " 5698,\n",
       " 5711,\n",
       " 5736,\n",
       " 5761,\n",
       " 5810,\n",
       " 5846,\n",
       " 5856,\n",
       " 5912,\n",
       " 5963,\n",
       " 5967,\n",
       " 5980,\n",
       " 6038,\n",
       " 6057,\n",
       " 6136,\n",
       " 6163,\n",
       " 6227,\n",
       " 6269,\n",
       " 6337,\n",
       " 6344,\n",
       " 6351,\n",
       " 6368,\n",
       " 6416,\n",
       " 6424,\n",
       " 6470,\n",
       " 6471,\n",
       " 6479,\n",
       " 6511,\n",
       " 6554,\n",
       " 6571,\n",
       " 6599,\n",
       " 6614,\n",
       " 6664,\n",
       " 6677,\n",
       " 6733,\n",
       " 6784,\n",
       " 6835,\n",
       " 6872,\n",
       " 6911,\n",
       " 7009,\n",
       " 7025,\n",
       " 7030,\n",
       " 7059,\n",
       " 7148,\n",
       " 7152,\n",
       " 7165,\n",
       " 7203,\n",
       " 7274,\n",
       " 7320,\n",
       " 7335,\n",
       " 7340,\n",
       " 7342,\n",
       " 7408,\n",
       " 7414,\n",
       " 7417,\n",
       " 7425,\n",
       " 7470,\n",
       " 7472,\n",
       " 7486,\n",
       " 7496,\n",
       " 7517,\n",
       " 7544,\n",
       " 7627,\n",
       " 7687,\n",
       " 7735,\n",
       " 7748,\n",
       " 7759,\n",
       " 7763,\n",
       " 7784,\n",
       " 7785,\n",
       " 7844,\n",
       " 7865,\n",
       " 7871,\n",
       " 7938,\n",
       " 7953,\n",
       " 7959,\n",
       " 8038,\n",
       " 8043,\n",
       " 8080,\n",
       " 8132,\n",
       " 8156,\n",
       " 8159,\n",
       " 8163,\n",
       " 8166,\n",
       " 8178,\n",
       " 8224,\n",
       " 8241,\n",
       " 8259,\n",
       " 8265,\n",
       " 8310,\n",
       " 8311,\n",
       " 8312,\n",
       " 8322,\n",
       " 8350,\n",
       " 8360,\n",
       " 8479,\n",
       " 8513,\n",
       " 8533,\n",
       " 8540,\n",
       " 8591,\n",
       " 8710,\n",
       " 8718,\n",
       " 8722,\n",
       " 8767,\n",
       " 8768,\n",
       " 8776,\n",
       " 8793,\n",
       " 8798,\n",
       " 8845,\n",
       " 8857,\n",
       " 8902,\n",
       " 8911,\n",
       " 8944,\n",
       " 8954,\n",
       " 8965,\n",
       " 8995,\n",
       " 9022,\n",
       " 9039,\n",
       " 9044,\n",
       " 9093,\n",
       " 9097,\n",
       " 9182,\n",
       " 9200,\n",
       " 9224,\n",
       " 9226,\n",
       " 9307,\n",
       " 9346,\n",
       " 9371,\n",
       " 9385,\n",
       " 9402,\n",
       " 9409,\n",
       " 9432,\n",
       " 9436,\n",
       " 9442,\n",
       " 9457,\n",
       " 9459,\n",
       " 9488,\n",
       " 9497,\n",
       " 9507,\n",
       " 9579,\n",
       " 9647,\n",
       " 9652,\n",
       " 9697,\n",
       " 9710,\n",
       " 9735,\n",
       " 9755,\n",
       " 9768,\n",
       " 9781,\n",
       " 9788,\n",
       " 9799,\n",
       " 9804,\n",
       " 9855,\n",
       " 9887,\n",
       " 9912,\n",
       " 9935,\n",
       " 9984,\n",
       " 9991,\n",
       " 10032,\n",
       " 10047,\n",
       " 10080,\n",
       " 10154,\n",
       " 10211,\n",
       " 10216,\n",
       " 10281,\n",
       " 10312,\n",
       " 10345,\n",
       " 10353,\n",
       " 10360,\n",
       " 10364,\n",
       " 10385,\n",
       " 10464,\n",
       " 10475,\n",
       " 10548,\n",
       " 10557,\n",
       " 10591,\n",
       " 10616,\n",
       " 10638,\n",
       " 10650,\n",
       " 10664,\n",
       " 10694,\n",
       " 10707,\n",
       " 10712,\n",
       " 10729,\n",
       " 10740,\n",
       " 10786,\n",
       " 10794,\n",
       " 10855,\n",
       " 10895,\n",
       " 10936,\n",
       " 10950,\n",
       " 10953,\n",
       " 11117,\n",
       " 11125,\n",
       " 11129,\n",
       " 11133,\n",
       " 11144,\n",
       " 11172,\n",
       " 11182,\n",
       " 11192,\n",
       " 11201,\n",
       " 11206,\n",
       " 11236,\n",
       " 11239,\n",
       " 11336,\n",
       " 11446,\n",
       " 11495,\n",
       " 11506,\n",
       " 11512,\n",
       " 11639,\n",
       " 11763,\n",
       " 11803,\n",
       " 11811,\n",
       " 11849,\n",
       " 11944,\n",
       " 11949,\n",
       " 11955,\n",
       " 11985,\n",
       " 11991,\n",
       " 12072,\n",
       " 12075,\n",
       " 12155,\n",
       " 12204,\n",
       " 12224,\n",
       " 12255,\n",
       " 12319,\n",
       " 12332,\n",
       " 12363,\n",
       " 12399,\n",
       " 12413,\n",
       " 12424,\n",
       " 12488,\n",
       " 12495,\n",
       " 12505,\n",
       " 12514,\n",
       " 12572,\n",
       " 12611,\n",
       " 12626,\n",
       " 12630,\n",
       " 12654,\n",
       " 12662,\n",
       " 12674,\n",
       " 12680,\n",
       " 12688,\n",
       " 12745,\n",
       " 12748,\n",
       " 12762,\n",
       " 12791,\n",
       " 12811,\n",
       " 12832,\n",
       " 12841,\n",
       " 12853,\n",
       " 12888,\n",
       " 12933,\n",
       " 12959,\n",
       " 12960,\n",
       " 12995,\n",
       " 13085,\n",
       " 13110,\n",
       " 13148,\n",
       " 13155,\n",
       " 13166,\n",
       " 13205,\n",
       " 13215,\n",
       " 13216,\n",
       " 13226,\n",
       " 13227,\n",
       " 13241,\n",
       " 13253,\n",
       " 13259,\n",
       " 13301,\n",
       " 13311,\n",
       " 13312,\n",
       " 13351,\n",
       " 13360,\n",
       " 13369,\n",
       " 13400,\n",
       " 13402,\n",
       " 13438,\n",
       " 13443,\n",
       " 13467,\n",
       " 13472,\n",
       " 13606,\n",
       " 13654,\n",
       " 13655,\n",
       " 13672,\n",
       " 13674,\n",
       " 13752,\n",
       " 13826,\n",
       " 13844,\n",
       " 13858,\n",
       " 13927,\n",
       " 13943,\n",
       " 13945,\n",
       " 13955,\n",
       " 13967,\n",
       " 14051,\n",
       " 14057,\n",
       " 14117,\n",
       " 14133,\n",
       " 14156,\n",
       " 14188,\n",
       " 14209,\n",
       " 14219,\n",
       " 14241,\n",
       " 14253,\n",
       " 14273,\n",
       " 14309,\n",
       " 14310,\n",
       " 14339,\n",
       " 14342,\n",
       " 14346,\n",
       " 14371,\n",
       " 14393,\n",
       " 14399,\n",
       " 14462,\n",
       " 14516,\n",
       " 14582,\n",
       " 14606,\n",
       " 14613,\n",
       " 14620,\n",
       " 14676,\n",
       " 14685,\n",
       " 14770,\n",
       " 14819,\n",
       " 14838,\n",
       " 14844,\n",
       " 14856,\n",
       " 14862,\n",
       " 14884,\n",
       " 14885,\n",
       " 14892,\n",
       " 14911,\n",
       " 14919,\n",
       " 14923,\n",
       " 14937,\n",
       " 14968,\n",
       " 14987,\n",
       " 14997,\n",
       " 15048,\n",
       " 15069,\n",
       " 15162,\n",
       " 15222,\n",
       " 15224,\n",
       " 15257,\n",
       " 15280,\n",
       " 15289,\n",
       " 15291,\n",
       " 15293,\n",
       " 15310,\n",
       " 15332,\n",
       " 15339,\n",
       " 15359,\n",
       " 15409,\n",
       " 15421,\n",
       " 15460,\n",
       " 15484,\n",
       " 15525,\n",
       " 15563,\n",
       " 15605,\n",
       " 15655,\n",
       " 15658,\n",
       " 15685,\n",
       " 15686,\n",
       " 15726,\n",
       " 15730,\n",
       " 15740,\n",
       " 15796,\n",
       " 15821,\n",
       " 15833,\n",
       " 15868,\n",
       " 15875,\n",
       " 15926,\n",
       " 15981,\n",
       " 15984,\n",
       " 15985,\n",
       " 15990,\n",
       " 16003,\n",
       " 16061,\n",
       " 16070,\n",
       " 16088,\n",
       " 16097,\n",
       " 16099,\n",
       " 16103,\n",
       " 16107,\n",
       " 16127,\n",
       " 16141,\n",
       " 16248,\n",
       " 16269,\n",
       " 16272,\n",
       " 16284,\n",
       " 16308,\n",
       " 16329,\n",
       " 16348,\n",
       " 16371,\n",
       " 16405,\n",
       " 16424,\n",
       " 16436,\n",
       " 16468,\n",
       " 16498,\n",
       " 16505,\n",
       " 16512,\n",
       " 16518,\n",
       " 16558,\n",
       " 16562,\n",
       " 16617,\n",
       " 16624,\n",
       " 16646,\n",
       " 16671,\n",
       " 16701,\n",
       " 16710,\n",
       " 16721,\n",
       " 16814,\n",
       " 16816,\n",
       " 16867,\n",
       " 16911,\n",
       " 16917,\n",
       " 16965,\n",
       " 17010,\n",
       " 17033,\n",
       " 17049,\n",
       " 17062,\n",
       " 17123,\n",
       " 17139,\n",
       " 17145,\n",
       " 17146,\n",
       " 17230,\n",
       " 17255,\n",
       " 17264,\n",
       " 17295,\n",
       " 17345,\n",
       " 17367,\n",
       " 17375,\n",
       " 17405,\n",
       " 17425,\n",
       " 17526,\n",
       " 17615,\n",
       " 17626,\n",
       " 17639,\n",
       " 17645,\n",
       " 17653,\n",
       " 17658,\n",
       " 17674,\n",
       " 17691,\n",
       " 17749,\n",
       " 17805,\n",
       " 17828,\n",
       " 17864,\n",
       " 17891,\n",
       " 17909,\n",
       " 17929,\n",
       " 18003,\n",
       " 18022,\n",
       " 18036,\n",
       " 18057,\n",
       " 18058,\n",
       " 18088,\n",
       " 18093,\n",
       " 18109,\n",
       " 18110,\n",
       " 18165,\n",
       " 18182,\n",
       " 18191,\n",
       " 18198,\n",
       " 18229,\n",
       " 18382,\n",
       " 18426,\n",
       " 18466,\n",
       " 18469,\n",
       " 18503,\n",
       " 18544,\n",
       " 18551,\n",
       " 18563,\n",
       " 18599,\n",
       " 18630,\n",
       " 18652,\n",
       " 18655,\n",
       " 18657,\n",
       " 18662,\n",
       " 18665,\n",
       " 18679,\n",
       " 18686,\n",
       " 18722,\n",
       " 18750,\n",
       " 18842,\n",
       " 18856,\n",
       " 18857,\n",
       " 18871,\n",
       " 18894,\n",
       " 18896,\n",
       " 18906,\n",
       " 19006,\n",
       " 19012,\n",
       " 19059,\n",
       " 19069,\n",
       " 19099,\n",
       " 19102,\n",
       " 19103,\n",
       " 19112,\n",
       " 19118,\n",
       " 19146,\n",
       " 19156,\n",
       " 19171,\n",
       " 19183,\n",
       " 19203,\n",
       " 19280,\n",
       " 19311,\n",
       " 19404,\n",
       " 19411,\n",
       " 19413,\n",
       " 19462,\n",
       " 19499,\n",
       " 19538,\n",
       " 19548,\n",
       " 19566,\n",
       " 19582,\n",
       " 19628,\n",
       " 19654,\n",
       " 19686,\n",
       " 19706,\n",
       " 19715,\n",
       " 19743,\n",
       " 19782,\n",
       " 19807,\n",
       " 19812,\n",
       " 19849,\n",
       " 19862,\n",
       " 19876,\n",
       " 19926,\n",
       " 19937,\n",
       " 19964,\n",
       " 19972,\n",
       " 19984,\n",
       " 20003,\n",
       " 20021,\n",
       " 20057,\n",
       " 20058,\n",
       " 20066,\n",
       " 20096,\n",
       " 20119,\n",
       " 20120,\n",
       " 20135,\n",
       " 20136,\n",
       " 20250,\n",
       " 20271,\n",
       " 20277,\n",
       " 20282,\n",
       " 20284,\n",
       " 20301,\n",
       " 20338,\n",
       " 20394,\n",
       " 20406,\n",
       " 20410,\n",
       " 20466,\n",
       " 20477,\n",
       " 20478,\n",
       " 20519,\n",
       " 20552,\n",
       " 20627,\n",
       " 20636,\n",
       " 20642,\n",
       " 20656,\n",
       " 20659,\n",
       " 20715,\n",
       " 20791,\n",
       " 20828,\n",
       " 20868,\n",
       " 20908,\n",
       " 20983,\n",
       " 20990,\n",
       " 21015,\n",
       " 21035,\n",
       " 21046,\n",
       " 21051,\n",
       " 21057,\n",
       " 21083,\n",
       " 21090,\n",
       " 21167,\n",
       " 21210,\n",
       " 21222,\n",
       " 21253,\n",
       " 21296,\n",
       " 21304,\n",
       " 21324,\n",
       " 21346,\n",
       " 21391,\n",
       " 21396,\n",
       " 21397,\n",
       " 21453,\n",
       " 21475,\n",
       " 21568,\n",
       " 21621,\n",
       " 21660,\n",
       " 21673,\n",
       " 21698,\n",
       " 21702,\n",
       " 21713,\n",
       " 21726,\n",
       " 21753,\n",
       " 21760,\n",
       " 21786,\n",
       " 21825,\n",
       " 21826,\n",
       " 21847,\n",
       " 21850,\n",
       " 21853,\n",
       " 21863,\n",
       " 21889,\n",
       " 21897,\n",
       " 21932,\n",
       " 21934,\n",
       " 21940,\n",
       " 21958,\n",
       " 21962,\n",
       " 21968,\n",
       " 21973,\n",
       " 21990,\n",
       " 22042,\n",
       " 22055,\n",
       " 22061,\n",
       " 22069,\n",
       " 22093,\n",
       " 22095,\n",
       " 22106,\n",
       " 22131,\n",
       " 22156,\n",
       " 22178,\n",
       " 22209,\n",
       " 22210,\n",
       " 22219,\n",
       " 22234,\n",
       " 22242,\n",
       " 22283,\n",
       " 22289,\n",
       " 22301,\n",
       " 22310,\n",
       " 22330,\n",
       " 22338,\n",
       " 22365,\n",
       " 22384,\n",
       " 22392,\n",
       " 22405,\n",
       " 22411,\n",
       " 22434,\n",
       " 22503,\n",
       " 22592,\n",
       " 22602,\n",
       " 22741,\n",
       " 22749,\n",
       " 22810,\n",
       " 22836,\n",
       " 22842,\n",
       " 22848,\n",
       " 22858,\n",
       " 22890,\n",
       " 22894,\n",
       " 22910,\n",
       " 22933,\n",
       " 22950,\n",
       " 22957,\n",
       " 23058,\n",
       " 23076,\n",
       " 23080,\n",
       " 23095,\n",
       " 23203,\n",
       " 23242,\n",
       " 23244,\n",
       " 23255,\n",
       " 23316,\n",
       " 23325,\n",
       " 23346,\n",
       " 23347,\n",
       " 23424,\n",
       " 23425,\n",
       " 23448,\n",
       " 23450,\n",
       " 23455,\n",
       " 23467,\n",
       " 23482,\n",
       " 23490,\n",
       " 23544,\n",
       " 23663,\n",
       " 23675,\n",
       " 23715,\n",
       " 23741,\n",
       " 23742,\n",
       " 23817,\n",
       " 23852,\n",
       " 23859,\n",
       " 23875,\n",
       " 23888,\n",
       " 23917,\n",
       " 23960,\n",
       " 23962,\n",
       " 23963,\n",
       " 23991,\n",
       " 24015,\n",
       " 24020,\n",
       " 24051,\n",
       " 24052,\n",
       " 24057,\n",
       " 24080,\n",
       " 24097,\n",
       " 24138,\n",
       " 24155,\n",
       " 24197,\n",
       " 24214,\n",
       " 24229,\n",
       " 24261,\n",
       " 24275,\n",
       " 24287,\n",
       " 24326,\n",
       " 24356,\n",
       " 24438,\n",
       " 24482,\n",
       " 24497,\n",
       " 24573,\n",
       " 24586,\n",
       " 24589,\n",
       " 24626,\n",
       " 24656,\n",
       " 24658,\n",
       " 24730,\n",
       " 24736,\n",
       " 24756,\n",
       " 24772,\n",
       " 24782,\n",
       " 24792,\n",
       " 24800,\n",
       " 24858,\n",
       " 24885,\n",
       " 24921,\n",
       " 24960,\n",
       " 25067,\n",
       " 25072,\n",
       " 25082,\n",
       " 25104,\n",
       " 25106,\n",
       " 25115,\n",
       " 25139,\n",
       " 25161,\n",
       " 25234,\n",
       " 25268,\n",
       " 25303,\n",
       " 25366,\n",
       " 25369,\n",
       " 25382,\n",
       " 25392,\n",
       " 25397,\n",
       " 25401,\n",
       " 25406,\n",
       " 25413,\n",
       " 25424,\n",
       " 25425,\n",
       " 25568,\n",
       " 25615,\n",
       " 25644,\n",
       " 25680,\n",
       " 25706,\n",
       " 25709,\n",
       " 25725,\n",
       " 25736,\n",
       " 25752,\n",
       " 25769,\n",
       " 25787,\n",
       " 25854,\n",
       " 25862,\n",
       " 25919,\n",
       " 25934,\n",
       " 25953,\n",
       " 25956,\n",
       " 26023,\n",
       " 26024,\n",
       " 26026,\n",
       " 26029,\n",
       " 26030,\n",
       " 26040,\n",
       " 26055,\n",
       " 26062,\n",
       " 26063,\n",
       " 26067,\n",
       " 26103,\n",
       " 26138,\n",
       " 26154,\n",
       " 26164,\n",
       " 26191,\n",
       " 26194,\n",
       " 26226,\n",
       " ...]"
      ]
     },
     "execution_count": 153,
     "metadata": {},
     "output_type": "execute_result"
    }
   ],
   "source": [
    "list_12"
   ]
  },
  {
   "cell_type": "code",
   "execution_count": 46,
   "metadata": {},
   "outputs": [],
   "source": [
    "data_train_re = pd.read_csv(\"../Data/sign_mnist_train.csv\")"
   ]
  },
  {
   "cell_type": "code",
   "execution_count": 47,
   "metadata": {},
   "outputs": [],
   "source": [
    "data_test_re = pd.read_csv(\"../Data/sign_mnist_test.csv\")"
   ]
  },
  {
   "cell_type": "code",
   "execution_count": null,
   "metadata": {},
   "outputs": [],
   "source": [
    "data_new_train_re = pd.concat([data_train_re, data_test_re])"
   ]
  }
 ],
 "metadata": {
  "kernelspec": {
   "display_name": "PyOnur",
   "language": "python",
   "name": "pyonur"
  },
  "language_info": {
   "codemirror_mode": {
    "name": "ipython",
    "version": 3
   },
   "file_extension": ".py",
   "mimetype": "text/x-python",
   "name": "python",
   "nbconvert_exporter": "python",
   "pygments_lexer": "ipython3",
   "version": "3.6.9"
  }
 },
 "nbformat": 4,
 "nbformat_minor": 2
}
