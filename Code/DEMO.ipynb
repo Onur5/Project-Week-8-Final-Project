{
 "cells": [
  {
   "cell_type": "code",
   "execution_count": 1,
   "metadata": {},
   "outputs": [
    {
     "name": "stderr",
     "output_type": "stream",
     "text": [
      "C:\\Users\\Onurun\\.conda\\envs\\PyOnur\\lib\\site-packages\\tensorflow\\python\\framework\\dtypes.py:523: FutureWarning: Passing (type, 1) or '1type' as a synonym of type is deprecated; in a future version of numpy, it will be understood as (type, (1,)) / '(1,)type'.\n",
      "  _np_qint8 = np.dtype([(\"qint8\", np.int8, 1)])\n",
      "C:\\Users\\Onurun\\.conda\\envs\\PyOnur\\lib\\site-packages\\tensorflow\\python\\framework\\dtypes.py:524: FutureWarning: Passing (type, 1) or '1type' as a synonym of type is deprecated; in a future version of numpy, it will be understood as (type, (1,)) / '(1,)type'.\n",
      "  _np_quint8 = np.dtype([(\"quint8\", np.uint8, 1)])\n",
      "C:\\Users\\Onurun\\.conda\\envs\\PyOnur\\lib\\site-packages\\tensorflow\\python\\framework\\dtypes.py:525: FutureWarning: Passing (type, 1) or '1type' as a synonym of type is deprecated; in a future version of numpy, it will be understood as (type, (1,)) / '(1,)type'.\n",
      "  _np_qint16 = np.dtype([(\"qint16\", np.int16, 1)])\n",
      "C:\\Users\\Onurun\\.conda\\envs\\PyOnur\\lib\\site-packages\\tensorflow\\python\\framework\\dtypes.py:526: FutureWarning: Passing (type, 1) or '1type' as a synonym of type is deprecated; in a future version of numpy, it will be understood as (type, (1,)) / '(1,)type'.\n",
      "  _np_quint16 = np.dtype([(\"quint16\", np.uint16, 1)])\n",
      "C:\\Users\\Onurun\\.conda\\envs\\PyOnur\\lib\\site-packages\\tensorflow\\python\\framework\\dtypes.py:527: FutureWarning: Passing (type, 1) or '1type' as a synonym of type is deprecated; in a future version of numpy, it will be understood as (type, (1,)) / '(1,)type'.\n",
      "  _np_qint32 = np.dtype([(\"qint32\", np.int32, 1)])\n",
      "C:\\Users\\Onurun\\.conda\\envs\\PyOnur\\lib\\site-packages\\tensorflow\\python\\framework\\dtypes.py:532: FutureWarning: Passing (type, 1) or '1type' as a synonym of type is deprecated; in a future version of numpy, it will be understood as (type, (1,)) / '(1,)type'.\n",
      "  np_resource = np.dtype([(\"resource\", np.ubyte, 1)])\n",
      "Using TensorFlow backend.\n"
     ]
    }
   ],
   "source": [
    "import os\n",
    "import numpy as np\n",
    "import pandas as pd\n",
    "import string\n",
    "from collections import OrderedDict\n",
    "import matplotlib.pyplot as plt\n",
    "import seaborn as sns\n",
    "from sklearn.preprocessing import LabelBinarizer\n",
    "import tensorflow\n",
    "from sklearn.metrics import accuracy_score\n",
    "from keras.utils import to_categorical\n",
    "import cv2\n",
    "from sklearn.model_selection import train_test_split\n",
    "from sklearn.utils import shuffle"
   ]
  },
  {
   "cell_type": "code",
   "execution_count": 2,
   "metadata": {},
   "outputs": [],
   "source": [
    "old_data = pd.read_csv(\"../Data/sign_mnist_train.csv\")"
   ]
  },
  {
   "cell_type": "code",
   "execution_count": 3,
   "metadata": {},
   "outputs": [],
   "source": [
    "target_data_old_num = old_data['label'].values"
   ]
  },
  {
   "cell_type": "code",
   "execution_count": 4,
   "metadata": {},
   "outputs": [],
   "source": [
    "target_data_old_letter = []\n",
    "for i in target_data_old_num:\n",
    "    target_data_old_letter.append(string.ascii_uppercase[i])    "
   ]
  },
  {
   "cell_type": "code",
   "execution_count": 5,
   "metadata": {},
   "outputs": [],
   "source": [
    "target_data_old_letter = np.array(target_data_old_letter)"
   ]
  },
  {
   "cell_type": "code",
   "execution_count": 6,
   "metadata": {},
   "outputs": [],
   "source": [
    "label_binrizer = LabelBinarizer()\n",
    "target_data_old_binary = label_binrizer.fit_transform(target_data_old_letter)"
   ]
  },
  {
   "cell_type": "code",
   "execution_count": 7,
   "metadata": {},
   "outputs": [
    {
     "data": {
      "text/plain": [
       "(27455, 24)"
      ]
     },
     "execution_count": 7,
     "metadata": {},
     "output_type": "execute_result"
    }
   ],
   "source": [
    "target_data_old_binary.shape"
   ]
  },
  {
   "cell_type": "code",
   "execution_count": 8,
   "metadata": {},
   "outputs": [],
   "source": [
    "X_image_data_old = old_data.drop('label', axis = 1)"
   ]
  },
  {
   "cell_type": "code",
   "execution_count": 9,
   "metadata": {},
   "outputs": [],
   "source": [
    "X_image_data_old = X_image_data_old.values"
   ]
  },
  {
   "cell_type": "code",
   "execution_count": 10,
   "metadata": {},
   "outputs": [],
   "source": [
    "X_image_data_old = X_image_data_old / 255"
   ]
  },
  {
   "cell_type": "code",
   "execution_count": 11,
   "metadata": {},
   "outputs": [],
   "source": [
    "X_image_data_old = X_image_data_old.reshape(X_image_data_old.shape[0], 28, 28, 1)"
   ]
  },
  {
   "cell_type": "code",
   "execution_count": 30,
   "metadata": {},
   "outputs": [],
   "source": [
    "from keras.models import load_model\n",
    "model_old = load_model(\"../Models/my_model.h5\")"
   ]
  },
  {
   "cell_type": "code",
   "execution_count": 31,
   "metadata": {},
   "outputs": [],
   "source": [
    "letter_show=\"Z\""
   ]
  },
  {
   "cell_type": "code",
   "execution_count": 32,
   "metadata": {},
   "outputs": [],
   "source": [
    "import numpy as np\n",
    "import cv2\n",
    "\n",
    "cap = cv2.VideoCapture(1)\n",
    "font=cv2.FONT_HERSHEY_SIMPLEX\n",
    "\n",
    "while(cap.isOpened()):\n",
    "    ret, frame = cap.read()\n",
    "    if ret==True:\n",
    "        \n",
    "        \n",
    "        frame = cv2.flip(frame,1)\n",
    "        cv2.putText(frame, letter_show,(100,130),font,1,(255,255,255),2)\n",
    "        cv2.imshow('frame',frame)\n",
    "        \n",
    "        # Correcting color to gray\n",
    "        frame = cv2.cvtColor(frame, cv2.COLOR_BGR2GRAY)\n",
    "\n",
    "        # Smoothing images\n",
    "        kernel = np.ones((3,3),np.float32)/30\n",
    "        frame = cv2.filter2D(frame,-1,kernel)\n",
    "\n",
    "        # Correcting sizing for analysis\n",
    "        frame = cv2.resize(frame, (28, 28))\n",
    "\n",
    "        frame = frame.reshape(1, 28, 28, 1)\n",
    "        y_frame = model_old.predict(frame)\n",
    "\n",
    "        for i in range(24):\n",
    "            if y_frame[0][i] == 1:\n",
    "                letter_show = np.unique(target_data_old_letter)[i]\n",
    "\n",
    "        if cv2.waitKey(1) & 0xFF == ord('q'):\n",
    "            break\n",
    "    else:\n",
    "        break\n",
    "\n",
    "\n",
    "cap.release()\n",
    "cv2.destroyAllWindows()"
   ]
  },
  {
   "cell_type": "code",
   "execution_count": 15,
   "metadata": {},
   "outputs": [],
   "source": [
    "cap.release()\n",
    "cv2.destroyAllWindows()"
   ]
  },
  {
   "cell_type": "code",
   "execution_count": 24,
   "metadata": {},
   "outputs": [],
   "source": [
    "model = load_model(\"../Models/my_model_gathered.h5\")"
   ]
  },
  {
   "cell_type": "code",
   "execution_count": 35,
   "metadata": {},
   "outputs": [],
   "source": [
    "import numpy as np\n",
    "import cv2\n",
    "\n",
    "cap = cv2.VideoCapture(1)\n",
    "font=cv2.FONT_HERSHEY_SIMPLEX\n",
    "\n",
    "while(cap.isOpened()):\n",
    "    ret, frame = cap.read()\n",
    "    if ret==True:\n",
    "        \n",
    "        \n",
    "        frame = cv2.flip(frame,1)\n",
    "\n",
    "        # write the flipped frame\n",
    "        # out.write(frame)\n",
    "        cv2.putText(frame, \"Show me a 'N'\",(100,130),font,1,(255,255,255),2)\n",
    "        #cv2.putText(frame, letter_show2,(100,100),font,1,(0,0,255),2)\n",
    "        #cv2.putText(frame, letter_show3,(100,160),font,1,(0,255,255),2)\n",
    "        cv2.imshow('frame',frame)\n",
    "        # Correcting color to gray\n",
    "        frame = cv2.cvtColor(frame, cv2.COLOR_BGR2GRAY)\n",
    "\n",
    "        # Smoothing images\n",
    "        kernel = np.ones((3,3),np.float32)/30\n",
    "        frame = cv2.filter2D(frame,-1,kernel)\n",
    "\n",
    "        # Correcting sizing for analysis\n",
    "        frame = cv2.resize(frame, (28, 28))\n",
    "        #frame2 = frame\n",
    "        #frame2 = cv2.resize(frame, (600, 600))\n",
    "        #cv2.imshow(\"frame2\", frame2)\n",
    "        frame = frame.reshape(1, 28, 28, 1)\n",
    "        y_frame = model.predict(frame)\n",
    "        #y_frame2 = model_old.predict(frame)\n",
    "        #y_frame3 = model_midterm.predict(frame)\n",
    "        for i in range(24):\n",
    "            if y_frame[0][i] == 1:\n",
    "                letter_show = np.unique(target_data_old_letter)[i]\n",
    "        #for i in range(24):\n",
    "          #  if y_frame2[0][i] == 1:\n",
    "            #    letter_show2 = np.unique(target_data_old_letter)[i]\n",
    "       # for i in range(24):\n",
    "           # if y_frame3[0][i] == 1:\n",
    "            #    letter_show3 = np.unique(target_data_old_letter)[i]\n",
    "        if cv2.waitKey(1) & 0xFF == ord('q') or letter_show == \"N\":\n",
    "            break\n",
    "    else:\n",
    "        break\n",
    "\n",
    "# Release everything if job is finished\n",
    "\n",
    "#cv2.imshow('wait frame',frame)\n",
    "#cv2.waitKey(10000)\n",
    "cap.release()\n",
    "cv2.destroyAllWindows()"
   ]
  },
  {
   "cell_type": "code",
   "execution_count": null,
   "metadata": {},
   "outputs": [],
   "source": []
  },
  {
   "cell_type": "code",
   "execution_count": 36,
   "metadata": {},
   "outputs": [],
   "source": [
    "import numpy as np\n",
    "import cv2\n",
    "\n",
    "cap = cv2.VideoCapture(1)\n",
    "font=cv2.FONT_HERSHEY_SIMPLEX\n",
    "\n",
    "while(cap.isOpened()):\n",
    "    ret, frame = cap.read()\n",
    "    if ret==True:\n",
    "        \n",
    "        \n",
    "        frame = cv2.flip(frame,1)\n",
    "\n",
    "        # write the flipped frame\n",
    "        # out.write(frame)\n",
    "        cv2.putText(frame, \"Now a 'V'\",(100,130),font,1,(255,255,255),2)\n",
    "        #cv2.putText(frame, letter_show2,(100,100),font,1,(0,0,255),2)\n",
    "        #cv2.putText(frame, letter_show3,(100,160),font,1,(0,255,255),2)\n",
    "        cv2.imshow('frame',frame)\n",
    "        # Correcting color to gray\n",
    "        frame = cv2.cvtColor(frame, cv2.COLOR_BGR2GRAY)\n",
    "\n",
    "        # Smoothing images\n",
    "        kernel = np.ones((3,3),np.float32)/30\n",
    "        frame = cv2.filter2D(frame,-1,kernel)\n",
    "\n",
    "        # Correcting sizing for analysis\n",
    "        frame = cv2.resize(frame, (28, 28))\n",
    "        #frame2 = frame\n",
    "        #frame2 = cv2.resize(frame, (600, 600))\n",
    "        #cv2.imshow(\"frame2\", frame2)\n",
    "        frame = frame.reshape(1, 28, 28, 1)\n",
    "        y_frame = model.predict(frame)\n",
    "        #y_frame2 = model_old.predict(frame)\n",
    "        #y_frame3 = model_midterm.predict(frame)\n",
    "        for i in range(24):\n",
    "            if y_frame[0][i] == 1:\n",
    "                letter_show = np.unique(target_data_old_letter)[i]\n",
    "        #for i in range(24):\n",
    "          #  if y_frame2[0][i] == 1:\n",
    "            #    letter_show2 = np.unique(target_data_old_letter)[i]\n",
    "       # for i in range(24):\n",
    "           # if y_frame3[0][i] == 1:\n",
    "            #    letter_show3 = np.unique(target_data_old_letter)[i]\n",
    "        if cv2.waitKey(1) & 0xFF == ord('q') or letter_show == \"V\":\n",
    "            break\n",
    "    else:\n",
    "        break\n",
    "\n",
    "# Release everything if job is finished\n",
    "#cv2.imshow('wait frame',frame)\n",
    "#cv2.waitKey(10000)\n",
    "cap.release()\n",
    "cv2.destroyAllWindows()"
   ]
  },
  {
   "cell_type": "code",
   "execution_count": 37,
   "metadata": {},
   "outputs": [],
   "source": [
    "import numpy as np\n",
    "import cv2\n",
    "\n",
    "cap = cv2.VideoCapture(1)\n",
    "font=cv2.FONT_HERSHEY_SIMPLEX\n",
    "\n",
    "while(cap.isOpened()):\n",
    "    ret, frame = cap.read()\n",
    "    if ret==True:\n",
    "        \n",
    "        \n",
    "        frame = cv2.flip(frame,1)\n",
    "\n",
    "        # write the flipped frame\n",
    "        # out.write(frame)\n",
    "        cv2.putText(frame, \"Now a 'A'\",(100,130),font,1,(255,255,255),2)\n",
    "        #cv2.putText(frame, letter_show2,(100,100),font,1,(0,0,255),2)\n",
    "        #cv2.putText(frame, letter_show3,(100,160),font,1,(0,255,255),2)\n",
    "        cv2.imshow('frame',frame)\n",
    "        # Correcting color to gray\n",
    "        frame = cv2.cvtColor(frame, cv2.COLOR_BGR2GRAY)\n",
    "\n",
    "        # Smoothing images\n",
    "        kernel = np.ones((3,3),np.float32)/30\n",
    "        frame = cv2.filter2D(frame,-1,kernel)\n",
    "\n",
    "        # Correcting sizing for analysis\n",
    "        frame = cv2.resize(frame, (28, 28))\n",
    "        #frame2 = frame\n",
    "        #frame2 = cv2.resize(frame, (600, 600))\n",
    "        #cv2.imshow(\"frame2\", frame2)\n",
    "        frame = frame.reshape(1, 28, 28, 1)\n",
    "        y_frame = model.predict(frame)\n",
    "        #y_frame2 = model_old.predict(frame)\n",
    "        #y_frame3 = model_midterm.predict(frame)\n",
    "        for i in range(24):\n",
    "            if y_frame[0][i] == 1:\n",
    "                letter_show = np.unique(target_data_old_letter)[i]\n",
    "        #for i in range(24):\n",
    "          #  if y_frame2[0][i] == 1:\n",
    "            #    letter_show2 = np.unique(target_data_old_letter)[i]\n",
    "       # for i in range(24):\n",
    "           # if y_frame3[0][i] == 1:\n",
    "            #    letter_show3 = np.unique(target_data_old_letter)[i]\n",
    "        if cv2.waitKey(1) & 0xFF == ord('q') or letter_show == \"A\":\n",
    "            break\n",
    "    else:\n",
    "        break\n",
    "\n",
    "# Release everything if job is finished\n",
    "#cv2.imshow('wait frame',frame)\n",
    "#cv2.waitKey(10000)\n",
    "cap.release()\n",
    "cv2.destroyAllWindows()"
   ]
  },
  {
   "cell_type": "code",
   "execution_count": null,
   "metadata": {},
   "outputs": [],
   "source": []
  },
  {
   "cell_type": "code",
   "execution_count": null,
   "metadata": {},
   "outputs": [],
   "source": []
  }
 ],
 "metadata": {
  "kernelspec": {
   "display_name": "PyOnur",
   "language": "python",
   "name": "pyonur"
  },
  "language_info": {
   "codemirror_mode": {
    "name": "ipython",
    "version": 3
   },
   "file_extension": ".py",
   "mimetype": "text/x-python",
   "name": "python",
   "nbconvert_exporter": "python",
   "pygments_lexer": "ipython3",
   "version": "3.6.9"
  }
 },
 "nbformat": 4,
 "nbformat_minor": 2
}
