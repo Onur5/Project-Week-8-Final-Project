{
 "cells": [
  {
   "cell_type": "code",
   "execution_count": 15,
   "metadata": {},
   "outputs": [],
   "source": [
    "import os\n",
    "import numpy as np\n",
    "import pandas as pd\n",
    "import string\n",
    "from collections import OrderedDict\n",
    "import matplotlib.pyplot as plt\n",
    "import seaborn as sns\n",
    "from sklearn.preprocessing import LabelBinarizer\n",
    "import tensorflow\n",
    "from sklearn.metrics import accuracy_score\n",
    "from keras.utils import to_categorical\n",
    "import cv2\n",
    "from sklearn.model_selection import train_test_split\n",
    "from sklearn.utils import shuffle"
   ]
  },
  {
   "cell_type": "code",
   "execution_count": 16,
   "metadata": {},
   "outputs": [],
   "source": [
    "old_data = pd.read_csv(\"../Data/sign_mnist_train.csv\")"
   ]
  },
  {
   "cell_type": "code",
   "execution_count": 17,
   "metadata": {},
   "outputs": [],
   "source": [
    "target_data_old_num = old_data['label'].values\n",
    "target_data_old_letter = []\n",
    "for i in target_data_old_num:\n",
    "    target_data_old_letter.append(string.ascii_uppercase[i])    \n",
    "target_data_old_letter = np.array(target_data_old_letter)\n",
    "label_binrizer = LabelBinarizer()\n",
    "target_data_old_binary = label_binrizer.fit_transform(target_data_old_letter)\n",
    "X_image_data_old = old_data.drop('label', axis = 1)\n",
    "X_image_data_old = X_image_data_old.values\n",
    "X_image_data_old = X_image_data_old / 255\n",
    "X_image_data_old = X_image_data_old.reshape(X_image_data_old.shape[0], 28, 28, 1)"
   ]
  },
  {
   "cell_type": "code",
   "execution_count": 18,
   "metadata": {},
   "outputs": [],
   "source": [
    "from keras.models import load_model\n",
    "model_old = load_model(\"../Models/my_model.h5\")"
   ]
  },
  {
   "cell_type": "code",
   "execution_count": 20,
   "metadata": {},
   "outputs": [],
   "source": [
    "letter_show=\"Z\""
   ]
  },
  {
   "cell_type": "markdown",
   "metadata": {},
   "source": [
    " "
   ]
  },
  {
   "cell_type": "markdown",
   "metadata": {},
   "source": [
    " "
   ]
  },
  {
   "cell_type": "markdown",
   "metadata": {},
   "source": [
    " "
   ]
  },
  {
   "cell_type": "markdown",
   "metadata": {},
   "source": [
    "## Test of the first model:"
   ]
  },
  {
   "cell_type": "code",
   "execution_count": 73,
   "metadata": {},
   "outputs": [],
   "source": [
    "import numpy as np\n",
    "import cv2\n",
    "\n",
    "cap = cv2.VideoCapture(1)\n",
    "font=cv2.FONT_HERSHEY_SIMPLEX\n",
    "\n",
    "while(cap.isOpened()):\n",
    "    ret, frame = cap.read()\n",
    "    if ret==True:\n",
    "        \n",
    "        frame = cv2.flip(frame,1)\n",
    "        cv2.putText(frame, letter_show,(100,130),font,1,(255,255,255),2)\n",
    "        cv2.imshow('frame',frame)\n",
    "        \n",
    "        # Correcting color to gray\n",
    "        frame = cv2.cvtColor(frame, cv2.COLOR_BGR2GRAY)\n",
    "\n",
    "        # Smoothing images\n",
    "        kernel = np.ones((3,3),np.float32)/30\n",
    "        frame = cv2.filter2D(frame,-1,kernel)\n",
    "\n",
    "        # Correcting sizing for analysis\n",
    "        frame = cv2.resize(frame, (28, 28))\n",
    "\n",
    "        frame = frame.reshape(1, 28, 28, 1)\n",
    "        y_frame = model_old.predict(frame)\n",
    "\n",
    "        for i in range(24):\n",
    "            if y_frame[0][i] == 1:\n",
    "                letter_show = np.unique(target_data_old_letter)[i]\n",
    "\n",
    "        if cv2.waitKey(1) & 0xFF == ord('q'):\n",
    "            break\n",
    "    else:\n",
    "        break\n",
    "\n",
    "\n",
    "cap.release()\n",
    "cv2.destroyAllWindows()"
   ]
  },
  {
   "cell_type": "markdown",
   "metadata": {},
   "source": [
    " "
   ]
  },
  {
   "cell_type": "markdown",
   "metadata": {},
   "source": [
    "\n",
    "Fast exit for errors:"
   ]
  },
  {
   "cell_type": "code",
   "execution_count": 15,
   "metadata": {},
   "outputs": [],
   "source": [
    "cap.release()\n",
    "cv2.destroyAllWindows()"
   ]
  },
  {
   "cell_type": "markdown",
   "metadata": {},
   "source": [
    " "
   ]
  },
  {
   "cell_type": "code",
   "execution_count": 19,
   "metadata": {},
   "outputs": [],
   "source": [
    "model = load_model(\"../Models/my_model_gathered.h5\")"
   ]
  },
  {
   "cell_type": "markdown",
   "metadata": {},
   "source": [
    " "
   ]
  },
  {
   "cell_type": "markdown",
   "metadata": {},
   "source": [
    " "
   ]
  },
  {
   "cell_type": "markdown",
   "metadata": {},
   "source": [
    " "
   ]
  },
  {
   "cell_type": "markdown",
   "metadata": {},
   "source": [
    "## Demo of the third Model\n",
    "\n",
    "### Hold the correct sign into the camera"
   ]
  },
  {
   "cell_type": "code",
   "execution_count": 74,
   "metadata": {},
   "outputs": [],
   "source": [
    "import numpy as np\n",
    "import cv2\n",
    "\n",
    "cap = cv2.VideoCapture(1)\n",
    "font=cv2.FONT_HERSHEY_SIMPLEX\n",
    "\n",
    "while(cap.isOpened()):\n",
    "    ret, frame = cap.read()\n",
    "    if ret==True:\n",
    "\n",
    "        frame = cv2.flip(frame,1)\n",
    "        cv2.putText(frame, \"Show me a 'N'\",(100,130),font,1,(255,255,255),2)\n",
    "        cv2.imshow('frame',frame)\n",
    "        \n",
    "        # Correcting color to gray\n",
    "        frame = cv2.cvtColor(frame, cv2.COLOR_BGR2GRAY)\n",
    "\n",
    "        # Smoothing images\n",
    "        kernel = np.ones((3,3),np.float32)/30\n",
    "        frame = cv2.filter2D(frame,-1,kernel)\n",
    "\n",
    "        # Correcting sizing for analysis\n",
    "        frame = cv2.resize(frame, (28, 28))\n",
    "        \n",
    "        # Reshaping\n",
    "        frame = frame.reshape(1, 28, 28, 1)\n",
    "        y_frame = model.predict(frame)\n",
    "\n",
    "        for i in range(24):\n",
    "            if y_frame[0][i] == 1:\n",
    "                letter_show = np.unique(target_data_old_letter)[i]\n",
    "\n",
    "        if cv2.waitKey(1) & 0xFF == ord('q') or letter_show == \"N\":\n",
    "            break\n",
    "    else:\n",
    "        break\n",
    "\n",
    "cap.release()\n",
    "cv2.destroyAllWindows()"
   ]
  },
  {
   "cell_type": "markdown",
   "metadata": {},
   "source": [
    "\n",
    "Fast exit for errors"
   ]
  },
  {
   "cell_type": "code",
   "execution_count": null,
   "metadata": {},
   "outputs": [],
   "source": [
    "cap.release()\n",
    "cv2.destroyAllWindows()"
   ]
  },
  {
   "cell_type": "code",
   "execution_count": 75,
   "metadata": {},
   "outputs": [],
   "source": [
    "import numpy as np\n",
    "import cv2\n",
    "\n",
    "cap = cv2.VideoCapture(1)\n",
    "font=cv2.FONT_HERSHEY_SIMPLEX\n",
    "\n",
    "while(cap.isOpened()):\n",
    "    ret, frame = cap.read()\n",
    "    if ret==True:\n",
    "        \n",
    "        \n",
    "        frame = cv2.flip(frame,1)\n",
    "        cv2.putText(frame, \"Now a 'V'\",(100,130),font,1,(255,255,255),2)\n",
    "\n",
    "        cv2.imshow('frame',frame)\n",
    "        \n",
    "        # Correcting color to gray\n",
    "        frame = cv2.cvtColor(frame, cv2.COLOR_BGR2GRAY)\n",
    "\n",
    "        # Smoothing images\n",
    "        kernel = np.ones((3,3),np.float32)/30\n",
    "        frame = cv2.filter2D(frame,-1,kernel)\n",
    "\n",
    "        # Correcting sizing for analysis\n",
    "        frame = cv2.resize(frame, (28, 28))\n",
    "\n",
    "        frame = frame.reshape(1, 28, 28, 1)\n",
    "        y_frame = model.predict(frame)\n",
    "\n",
    "        for i in range(24):\n",
    "            if y_frame[0][i] == 1:\n",
    "                letter_show = np.unique(target_data_old_letter)[i]\n",
    "\n",
    "        if cv2.waitKey(1) & 0xFF == ord('q') or letter_show == \"V\":\n",
    "            break\n",
    "    else:\n",
    "        break\n",
    "\n",
    "cap.release()\n",
    "cv2.destroyAllWindows()"
   ]
  },
  {
   "cell_type": "code",
   "execution_count": 76,
   "metadata": {},
   "outputs": [],
   "source": [
    "import numpy as np\n",
    "import cv2\n",
    "\n",
    "cap = cv2.VideoCapture(1)\n",
    "font=cv2.FONT_HERSHEY_SIMPLEX\n",
    "\n",
    "while(cap.isOpened()):\n",
    "    ret, frame = cap.read()\n",
    "    if ret==True:\n",
    "        \n",
    "        \n",
    "        frame = cv2.flip(frame,1)\n",
    "\n",
    "        cv2.putText(frame, \"Now a 'A'\",(100,130),font,1,(255,255,255),2)\n",
    "\n",
    "        cv2.imshow('frame',frame)\n",
    "        \n",
    "        # Correcting color to gray\n",
    "        frame = cv2.cvtColor(frame, cv2.COLOR_BGR2GRAY)\n",
    "\n",
    "        # Smoothing images\n",
    "        kernel = np.ones((3,3),np.float32)/30\n",
    "        frame = cv2.filter2D(frame,-1,kernel)\n",
    "\n",
    "        # Correcting sizing for analysis\n",
    "        frame = cv2.resize(frame, (28, 28))\n",
    "\n",
    "        frame = frame.reshape(1, 28, 28, 1)\n",
    "        y_frame = model.predict(frame)\n",
    "\n",
    "        for i in range(24):\n",
    "            if y_frame[0][i] == 1:\n",
    "                letter_show = np.unique(target_data_old_letter)[i]\n",
    "        if cv2.waitKey(1) & 0xFF == ord('q') or letter_show == \"A\":\n",
    "            break\n",
    "    else:\n",
    "        break\n",
    "\n",
    "cap.release()\n",
    "cv2.destroyAllWindows()"
   ]
  },
  {
   "cell_type": "code",
   "execution_count": null,
   "metadata": {},
   "outputs": [],
   "source": []
  }
 ],
 "metadata": {
  "kernelspec": {
   "display_name": "PyOnur",
   "language": "python",
   "name": "pyonur"
  },
  "language_info": {
   "codemirror_mode": {
    "name": "ipython",
    "version": 3
   },
   "file_extension": ".py",
   "mimetype": "text/x-python",
   "name": "python",
   "nbconvert_exporter": "python",
   "pygments_lexer": "ipython3",
   "version": "3.6.9"
  }
 },
 "nbformat": 4,
 "nbformat_minor": 2
}
